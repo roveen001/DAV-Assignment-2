{
 "cells": [
  {
   "cell_type": "markdown",
   "id": "cf261af8",
   "metadata": {},
   "source": [
    "# Data Analytics and Visualisation\n",
    "## Assessment II\n",
    "Submitted by Rabin Sapkota"
   ]
  },
  {
   "cell_type": "markdown",
   "id": "ebcce950",
   "metadata": {},
   "source": [
    "#### Q1. Create an animated time series plot from the given dataset, time_series_19-covid- Confirmed_archived_0325.csv, in Moodle to show the evolution of confirmed COVID cases for India from Jan 2020 until March 2020. "
   ]
  },
  {
   "cell_type": "code",
   "execution_count": 1,
   "id": "a324591a",
   "metadata": {},
   "outputs": [],
   "source": [
    "import pandas as pd\n",
    "import seaborn as sns\n",
    "import matplotlib\n",
    "import matplotlib.pyplot as plt\n",
    "from datetime import datetime\n",
    "import matplotlib.animation as animation\n",
    "import matplotlib.dates as mdates\n",
    "import numpy as np\n",
    "from sklearn.mixture import GaussianMixture\n",
    "from sklearn.metrics.cluster import adjusted_rand_score\n"
   ]
  },
  {
   "cell_type": "code",
   "execution_count": 2,
   "id": "69213d8f",
   "metadata": {},
   "outputs": [],
   "source": [
    "# getting the data\n",
    "data = pd.read_csv('time_series_19-covid-Confirmed_archived_0325.csv')"
   ]
  },
  {
   "cell_type": "code",
   "execution_count": 3,
   "id": "8180bc48",
   "metadata": {},
   "outputs": [
    {
     "data": {
      "text/html": [
       "<div>\n",
       "<style scoped>\n",
       "    .dataframe tbody tr th:only-of-type {\n",
       "        vertical-align: middle;\n",
       "    }\n",
       "\n",
       "    .dataframe tbody tr th {\n",
       "        vertical-align: top;\n",
       "    }\n",
       "\n",
       "    .dataframe thead th {\n",
       "        text-align: right;\n",
       "    }\n",
       "</style>\n",
       "<table border=\"1\" class=\"dataframe\">\n",
       "  <thead>\n",
       "    <tr style=\"text-align: right;\">\n",
       "      <th></th>\n",
       "      <th>Province/State</th>\n",
       "      <th>Country/Region</th>\n",
       "      <th>Lat</th>\n",
       "      <th>Long</th>\n",
       "      <th>1/22/20</th>\n",
       "      <th>1/23/20</th>\n",
       "      <th>1/24/20</th>\n",
       "      <th>1/25/20</th>\n",
       "      <th>1/26/20</th>\n",
       "      <th>1/27/20</th>\n",
       "      <th>...</th>\n",
       "      <th>3/14/20</th>\n",
       "      <th>3/15/20</th>\n",
       "      <th>3/16/20</th>\n",
       "      <th>3/17/20</th>\n",
       "      <th>3/18/20</th>\n",
       "      <th>3/19/20</th>\n",
       "      <th>3/20/20</th>\n",
       "      <th>3/21/20</th>\n",
       "      <th>3/22/20</th>\n",
       "      <th>3/23/20</th>\n",
       "    </tr>\n",
       "  </thead>\n",
       "  <tbody>\n",
       "    <tr>\n",
       "      <th>15</th>\n",
       "      <td>NaN</td>\n",
       "      <td>India</td>\n",
       "      <td>21.0</td>\n",
       "      <td>78.0</td>\n",
       "      <td>0</td>\n",
       "      <td>0</td>\n",
       "      <td>0</td>\n",
       "      <td>0</td>\n",
       "      <td>0</td>\n",
       "      <td>0</td>\n",
       "      <td>...</td>\n",
       "      <td>102</td>\n",
       "      <td>113</td>\n",
       "      <td>119</td>\n",
       "      <td>142</td>\n",
       "      <td>156</td>\n",
       "      <td>194</td>\n",
       "      <td>244</td>\n",
       "      <td>330</td>\n",
       "      <td>396</td>\n",
       "      <td>396.0</td>\n",
       "    </tr>\n",
       "  </tbody>\n",
       "</table>\n",
       "<p>1 rows × 66 columns</p>\n",
       "</div>"
      ],
      "text/plain": [
       "   Province/State Country/Region   Lat  Long  1/22/20  1/23/20  1/24/20  \\\n",
       "15            NaN          India  21.0  78.0        0        0        0   \n",
       "\n",
       "    1/25/20  1/26/20  1/27/20  ...  3/14/20  3/15/20  3/16/20  3/17/20  \\\n",
       "15        0        0        0  ...      102      113      119      142   \n",
       "\n",
       "    3/18/20  3/19/20  3/20/20  3/21/20  3/22/20  3/23/20  \n",
       "15      156      194      244      330      396    396.0  \n",
       "\n",
       "[1 rows x 66 columns]"
      ]
     },
     "execution_count": 3,
     "metadata": {},
     "output_type": "execute_result"
    }
   ],
   "source": [
    "data.loc[data['Country/Region'] == 'India']"
   ]
  },
  {
   "cell_type": "code",
   "execution_count": 4,
   "id": "ad6f3315",
   "metadata": {},
   "outputs": [],
   "source": [
    "# getting parameters for plotting\n",
    "def getPrams(d):\n",
    "    # convert into list of objects for plotting\n",
    "    # get the dates\n",
    "    # get the counts for confirmed cases\n",
    "    \n",
    "    return pd.DataFrame({'date':d.columns[4:].tolist(),\n",
    "                  'confirmed cases':d.iloc[0,4:].tolist()})"
   ]
  },
  {
   "cell_type": "code",
   "execution_count": 5,
   "id": "2c6b6ff8",
   "metadata": {},
   "outputs": [
    {
     "name": "stdout",
     "output_type": "stream",
     "text": [
      "<class 'pandas.core.frame.DataFrame'>\n",
      "RangeIndex: 62 entries, 0 to 61\n",
      "Data columns (total 2 columns):\n",
      " #   Column           Non-Null Count  Dtype  \n",
      "---  ------           --------------  -----  \n",
      " 0   date             62 non-null     object \n",
      " 1   confirmed cases  62 non-null     float64\n",
      "dtypes: float64(1), object(1)\n",
      "memory usage: 1.1+ KB\n"
     ]
    }
   ],
   "source": [
    "getPrams(data).info()"
   ]
  },
  {
   "cell_type": "code",
   "execution_count": 6,
   "id": "4ec8d8bc",
   "metadata": {},
   "outputs": [],
   "source": [
    "# get the parameters\n",
    "# convert to day/month format\n",
    "df = getPrams(data)\n",
    "\n",
    "# set index \n",
    "df['date'] = pd.to_datetime(df['date'])\n",
    "df['date'] = df['date'].dt.strftime('%d%b')"
   ]
  },
  {
   "cell_type": "code",
   "execution_count": 7,
   "id": "55813428",
   "metadata": {},
   "outputs": [
    {
     "data": {
      "text/html": [
       "<div>\n",
       "<style scoped>\n",
       "    .dataframe tbody tr th:only-of-type {\n",
       "        vertical-align: middle;\n",
       "    }\n",
       "\n",
       "    .dataframe tbody tr th {\n",
       "        vertical-align: top;\n",
       "    }\n",
       "\n",
       "    .dataframe thead th {\n",
       "        text-align: right;\n",
       "    }\n",
       "</style>\n",
       "<table border=\"1\" class=\"dataframe\">\n",
       "  <thead>\n",
       "    <tr style=\"text-align: right;\">\n",
       "      <th></th>\n",
       "      <th>date</th>\n",
       "      <th>confirmed cases</th>\n",
       "    </tr>\n",
       "  </thead>\n",
       "  <tbody>\n",
       "    <tr>\n",
       "      <th>0</th>\n",
       "      <td>22Jan</td>\n",
       "      <td>2.0</td>\n",
       "    </tr>\n",
       "    <tr>\n",
       "      <th>1</th>\n",
       "      <td>23Jan</td>\n",
       "      <td>3.0</td>\n",
       "    </tr>\n",
       "    <tr>\n",
       "      <th>2</th>\n",
       "      <td>24Jan</td>\n",
       "      <td>5.0</td>\n",
       "    </tr>\n",
       "    <tr>\n",
       "      <th>3</th>\n",
       "      <td>25Jan</td>\n",
       "      <td>7.0</td>\n",
       "    </tr>\n",
       "    <tr>\n",
       "      <th>4</th>\n",
       "      <td>26Jan</td>\n",
       "      <td>8.0</td>\n",
       "    </tr>\n",
       "    <tr>\n",
       "      <th>...</th>\n",
       "      <td>...</td>\n",
       "      <td>...</td>\n",
       "    </tr>\n",
       "    <tr>\n",
       "      <th>57</th>\n",
       "      <td>19Mar</td>\n",
       "      <td>272.0</td>\n",
       "    </tr>\n",
       "    <tr>\n",
       "      <th>58</th>\n",
       "      <td>20Mar</td>\n",
       "      <td>322.0</td>\n",
       "    </tr>\n",
       "    <tr>\n",
       "      <th>59</th>\n",
       "      <td>21Mar</td>\n",
       "      <td>411.0</td>\n",
       "    </tr>\n",
       "    <tr>\n",
       "      <th>60</th>\n",
       "      <td>22Mar</td>\n",
       "      <td>599.0</td>\n",
       "    </tr>\n",
       "    <tr>\n",
       "      <th>61</th>\n",
       "      <td>23Mar</td>\n",
       "      <td>599.0</td>\n",
       "    </tr>\n",
       "  </tbody>\n",
       "</table>\n",
       "<p>62 rows × 2 columns</p>\n",
       "</div>"
      ],
      "text/plain": [
       "     date  confirmed cases\n",
       "0   22Jan              2.0\n",
       "1   23Jan              3.0\n",
       "2   24Jan              5.0\n",
       "3   25Jan              7.0\n",
       "4   26Jan              8.0\n",
       "..    ...              ...\n",
       "57  19Mar            272.0\n",
       "58  20Mar            322.0\n",
       "59  21Mar            411.0\n",
       "60  22Mar            599.0\n",
       "61  23Mar            599.0\n",
       "\n",
       "[62 rows x 2 columns]"
      ]
     },
     "execution_count": 7,
     "metadata": {},
     "output_type": "execute_result"
    }
   ],
   "source": [
    "df"
   ]
  },
  {
   "cell_type": "code",
   "execution_count": 8,
   "id": "a7e39ada",
   "metadata": {
    "scrolled": true
   },
   "outputs": [
    {
     "data": {
      "image/png": "[encoded data removed]",
      "text/plain": [
       "<Figure size 720x504 with 1 Axes>"
      ]
     },
     "metadata": {
      "needs_background": "light"
     },
     "output_type": "display_data"
    }
   ],
   "source": [
    "# bar plot for the data\n",
    "plt.figure(figsize=(10,7))\n",
    "plt.bar(x=df['date'],height=df['confirmed cases'],color='g')\n",
    "# plt.plot(df.index,df['confirmed cases'],color='g')\n",
    "plt.title('COVID-19 Confirmed Cases in India from January to March',fontsize=16)\n",
    "plt.xlabel('Dates',fontsize=14)\n",
    "plt.ylabel('Confirmed Cases',fontsize=14)\n",
    "\n",
    "# adding a gap of 4days on the dates axix for convience of view\n",
    "plt.gca().xaxis.set_major_locator(mdates.DayLocator(interval=5))\n"
   ]
  },
  {
   "cell_type": "code",
   "execution_count": null,
   "id": "31c52096",
   "metadata": {},
   "outputs": [],
   "source": []
  },
  {
   "cell_type": "code",
   "execution_count": 9,
   "id": "2a762087",
   "metadata": {},
   "outputs": [
    {
     "data": {
      "text/plain": [
       "(0.0, 1.0, 1.9, 599.1)"
      ]
     },
     "execution_count": 9,
     "metadata": {},
     "output_type": "execute_result"
    },
    {
     "data": {
      "image/png": "[encoded data removed]",
      "text/plain": [
       "<Figure size 720x432 with 1 Axes>"
      ]
     },
     "metadata": {
      "needs_background": "light"
     },
     "output_type": "display_data"
    }
   ],
   "source": [
    "#animating the plot\n",
    "fig = plt.figure(figsize=(10,6))\n",
    "ax = fig.add_subplot(1,1,1)\n",
    "ax.axis(xmin = df['date'][0],xmax = df['date'][len(df)-1])\n",
    "ax.axis(ymin=(df['confirmed cases'].min()-0.1), ymax =(df['confirmed cases'].max()+0.1))\n",
    "\n"
   ]
  },
  {
   "cell_type": "code",
   "execution_count": 10,
   "id": "219a20b3",
   "metadata": {},
   "outputs": [],
   "source": [
    "# defining the animation function\n",
    "def animate(i):\n",
    "    data = df.iloc[:int(i+1)]\n",
    "    xp,yp,zp = [],[],[]\n",
    "    lines = data\n",
    "    \n",
    "    # first get the values for plot\n",
    "    for line in lines:\n",
    "        xp = data.index\n",
    "        yp = data['date']\n",
    "        zp = data['confirmed cases']\n",
    "        \n",
    "    ax.clear()\n",
    "    ax.plot(yp,xp)\n",
    "    \n",
    "    plt.xlabel('Dates',fontsize = 14)\n",
    "    plt.ylabel('Confirmed Cases',fontsize = 14)\n",
    "    plt.title('COVID-19 Confirmed Cases in India from January to March',fontsize=16)\n"
   ]
  },
  {
   "cell_type": "code",
   "execution_count": 11,
   "id": "11b309f7",
   "metadata": {},
   "outputs": [],
   "source": [
    "Writer = animation.writers['ffmpeg']\n",
    "writer = Writer(fps=15, metadata=dict(artist='Me'), bitrate=1800)"
   ]
  },
  {
   "cell_type": "code",
   "execution_count": 12,
   "id": "c58a5f33",
   "metadata": {},
   "outputs": [],
   "source": [
    "ani = animation.FuncAnimation(fig, animate, frames = len(df), interval=10) "
   ]
  },
  {
   "cell_type": "code",
   "execution_count": 13,
   "id": "29c8ef18",
   "metadata": {},
   "outputs": [
    {
     "name": "stderr",
     "output_type": "stream",
     "text": [
      "MovieWriter stderr:\n",
      "[libopenh264 @ 0x7fed3200bc00] Incorrect library version loaded\n",
      "Error initializing output stream 0:0 -- Error while opening encoder for output stream #0:0 - maybe incorrect parameters such as bit_rate, rate, width or height\n",
      "\n"
     ]
    },
    {
     "ename": "CalledProcessError",
     "evalue": "Command '['ffmpeg', '-f', 'rawvideo', '-vcodec', 'rawvideo', '-s', '720x432', '-pix_fmt', 'rgba', '-r', '15', '-loglevel', 'error', '-i', 'pipe:', '-vcodec', 'h264', '-pix_fmt', 'yuv420p', '-b', '1800k', '-metadata', 'artist=Me', '-y', 'India Confirmed Covid Cases.mp4']' returned non-zero exit status 1.",
     "output_type": "error",
     "traceback": [
      "\u001b[0;31m---------------------------------------------------------------------------\u001b[0m",
      "\u001b[0;31mBrokenPipeError\u001b[0m                           Traceback (most recent call last)",
      "\u001b[0;32m~/opt/anaconda3/lib/python3.9/site-packages/matplotlib/animation.py\u001b[0m in \u001b[0;36msaving\u001b[0;34m(self, fig, outfile, dpi, *args, **kwargs)\u001b[0m\n\u001b[1;32m    235\u001b[0m         \u001b[0;32mtry\u001b[0m\u001b[0;34m:\u001b[0m\u001b[0;34m\u001b[0m\u001b[0;34m\u001b[0m\u001b[0m\n\u001b[0;32m--> 236\u001b[0;31m             \u001b[0;32myield\u001b[0m \u001b[0mself\u001b[0m\u001b[0;34m\u001b[0m\u001b[0;34m\u001b[0m\u001b[0m\n\u001b[0m\u001b[1;32m    237\u001b[0m         \u001b[0;32mfinally\u001b[0m\u001b[0;34m:\u001b[0m\u001b[0;34m\u001b[0m\u001b[0;34m\u001b[0m\u001b[0m\n",
      "\u001b[0;32m~/opt/anaconda3/lib/python3.9/site-packages/matplotlib/animation.py\u001b[0m in \u001b[0;36msave\u001b[0;34m(self, filename, writer, fps, dpi, codec, bitrate, extra_args, metadata, extra_anim, savefig_kwargs, progress_callback)\u001b[0m\n\u001b[1;32m   1176\u001b[0m                         \u001b[0mframe_number\u001b[0m \u001b[0;34m+=\u001b[0m \u001b[0;36m1\u001b[0m\u001b[0;34m\u001b[0m\u001b[0;34m\u001b[0m\u001b[0m\n\u001b[0;32m-> 1177\u001b[0;31m                 \u001b[0mwriter\u001b[0m\u001b[0;34m.\u001b[0m\u001b[0mgrab_frame\u001b[0m\u001b[0;34m(\u001b[0m\u001b[0;34m**\u001b[0m\u001b[0msavefig_kwargs\u001b[0m\u001b[0;34m)\u001b[0m\u001b[0;34m\u001b[0m\u001b[0;34m\u001b[0m\u001b[0m\n\u001b[0m\u001b[1;32m   1178\u001b[0m \u001b[0;34m\u001b[0m\u001b[0m\n",
      "\u001b[0;32m~/opt/anaconda3/lib/python3.9/site-packages/matplotlib/animation.py\u001b[0m in \u001b[0;36mgrab_frame\u001b[0;34m(self, **savefig_kwargs)\u001b[0m\n\u001b[1;32m    355\u001b[0m         \u001b[0;31m# Save the figure data to the sink, using the frame format and dpi.\u001b[0m\u001b[0;34m\u001b[0m\u001b[0;34m\u001b[0m\u001b[0m\n\u001b[0;32m--> 356\u001b[0;31m         self.fig.savefig(self._proc.stdin, format=self.frame_format,\n\u001b[0m\u001b[1;32m    357\u001b[0m                          dpi=self.dpi, **savefig_kwargs)\n",
      "\u001b[0;32m~/opt/anaconda3/lib/python3.9/site-packages/matplotlib/figure.py\u001b[0m in \u001b[0;36msavefig\u001b[0;34m(self, fname, transparent, **kwargs)\u001b[0m\n\u001b[1;32m   3014\u001b[0m \u001b[0;34m\u001b[0m\u001b[0m\n\u001b[0;32m-> 3015\u001b[0;31m         \u001b[0mself\u001b[0m\u001b[0;34m.\u001b[0m\u001b[0mcanvas\u001b[0m\u001b[0;34m.\u001b[0m\u001b[0mprint_figure\u001b[0m\u001b[0;34m(\u001b[0m\u001b[0mfname\u001b[0m\u001b[0;34m,\u001b[0m \u001b[0;34m**\u001b[0m\u001b[0mkwargs\u001b[0m\u001b[0;34m)\u001b[0m\u001b[0;34m\u001b[0m\u001b[0;34m\u001b[0m\u001b[0m\n\u001b[0m\u001b[1;32m   3016\u001b[0m \u001b[0;34m\u001b[0m\u001b[0m\n",
      "\u001b[0;32m~/opt/anaconda3/lib/python3.9/site-packages/matplotlib/backend_bases.py\u001b[0m in \u001b[0;36mprint_figure\u001b[0;34m(self, filename, dpi, facecolor, edgecolor, orientation, format, bbox_inches, pad_inches, bbox_extra_artists, backend, **kwargs)\u001b[0m\n\u001b[1;32m   2254\u001b[0m                 \u001b[0;32mwith\u001b[0m \u001b[0mcbook\u001b[0m\u001b[0;34m.\u001b[0m\u001b[0m_setattr_cm\u001b[0m\u001b[0;34m(\u001b[0m\u001b[0mself\u001b[0m\u001b[0;34m.\u001b[0m\u001b[0mfigure\u001b[0m\u001b[0;34m,\u001b[0m \u001b[0mdpi\u001b[0m\u001b[0;34m=\u001b[0m\u001b[0mdpi\u001b[0m\u001b[0;34m)\u001b[0m\u001b[0;34m:\u001b[0m\u001b[0;34m\u001b[0m\u001b[0;34m\u001b[0m\u001b[0m\n\u001b[0;32m-> 2255\u001b[0;31m                     result = print_method(\n\u001b[0m\u001b[1;32m   2256\u001b[0m                         \u001b[0mfilename\u001b[0m\u001b[0;34m,\u001b[0m\u001b[0;34m\u001b[0m\u001b[0;34m\u001b[0m\u001b[0m\n",
      "\u001b[0;32m~/opt/anaconda3/lib/python3.9/site-packages/matplotlib/backend_bases.py\u001b[0m in \u001b[0;36mwrapper\u001b[0;34m(*args, **kwargs)\u001b[0m\n\u001b[1;32m   1668\u001b[0m \u001b[0;34m\u001b[0m\u001b[0m\n\u001b[0;32m-> 1669\u001b[0;31m         \u001b[0;32mreturn\u001b[0m \u001b[0mfunc\u001b[0m\u001b[0;34m(\u001b[0m\u001b[0;34m*\u001b[0m\u001b[0margs\u001b[0m\u001b[0;34m,\u001b[0m \u001b[0;34m**\u001b[0m\u001b[0mkwargs\u001b[0m\u001b[0;34m)\u001b[0m\u001b[0;34m\u001b[0m\u001b[0;34m\u001b[0m\u001b[0m\n\u001b[0m\u001b[1;32m   1670\u001b[0m \u001b[0;34m\u001b[0m\u001b[0m\n",
      "\u001b[0;32m~/opt/anaconda3/lib/python3.9/site-packages/matplotlib/backends/backend_agg.py\u001b[0m in \u001b[0;36mprint_raw\u001b[0;34m(self, filename_or_obj, *args)\u001b[0m\n\u001b[1;32m    454\u001b[0m         \u001b[0;32mwith\u001b[0m \u001b[0mcbook\u001b[0m\u001b[0;34m.\u001b[0m\u001b[0mopen_file_cm\u001b[0m\u001b[0;34m(\u001b[0m\u001b[0mfilename_or_obj\u001b[0m\u001b[0;34m,\u001b[0m \u001b[0;34m\"wb\"\u001b[0m\u001b[0;34m)\u001b[0m \u001b[0;32mas\u001b[0m \u001b[0mfh\u001b[0m\u001b[0;34m:\u001b[0m\u001b[0;34m\u001b[0m\u001b[0;34m\u001b[0m\u001b[0m\n\u001b[0;32m--> 455\u001b[0;31m             \u001b[0mfh\u001b[0m\u001b[0;34m.\u001b[0m\u001b[0mwrite\u001b[0m\u001b[0;34m(\u001b[0m\u001b[0mrenderer\u001b[0m\u001b[0;34m.\u001b[0m\u001b[0mbuffer_rgba\u001b[0m\u001b[0;34m(\u001b[0m\u001b[0;34m)\u001b[0m\u001b[0;34m)\u001b[0m\u001b[0;34m\u001b[0m\u001b[0;34m\u001b[0m\u001b[0m\n\u001b[0m\u001b[1;32m    456\u001b[0m \u001b[0;34m\u001b[0m\u001b[0m\n",
      "\u001b[0;31mBrokenPipeError\u001b[0m: [Errno 32] Broken pipe",
      "\nDuring handling of the above exception, another exception occurred:\n",
      "\u001b[0;31mCalledProcessError\u001b[0m                        Traceback (most recent call last)",
      "\u001b[0;32m/var/folders/4n/l25cxg214q53m5l_zgzx4gj00000gn/T/ipykernel_41522/2953595485.py\u001b[0m in \u001b[0;36m<module>\u001b[0;34m\u001b[0m\n\u001b[0;32m----> 1\u001b[0;31m \u001b[0mani\u001b[0m\u001b[0;34m.\u001b[0m\u001b[0msave\u001b[0m\u001b[0;34m(\u001b[0m\u001b[0;34m'India Confirmed Covid Cases.mp4'\u001b[0m\u001b[0;34m,\u001b[0m \u001b[0mwriter\u001b[0m\u001b[0;34m=\u001b[0m\u001b[0mwriter\u001b[0m\u001b[0;34m)\u001b[0m\u001b[0;34m\u001b[0m\u001b[0;34m\u001b[0m\u001b[0m\n\u001b[0m",
      "\u001b[0;32m~/opt/anaconda3/lib/python3.9/site-packages/matplotlib/animation.py\u001b[0m in \u001b[0;36msave\u001b[0;34m(self, filename, writer, fps, dpi, codec, bitrate, extra_args, metadata, extra_anim, savefig_kwargs, progress_callback)\u001b[0m\n\u001b[1;32m   1175\u001b[0m                         \u001b[0mprogress_callback\u001b[0m\u001b[0;34m(\u001b[0m\u001b[0mframe_number\u001b[0m\u001b[0;34m,\u001b[0m \u001b[0mtotal_frames\u001b[0m\u001b[0;34m)\u001b[0m\u001b[0;34m\u001b[0m\u001b[0;34m\u001b[0m\u001b[0m\n\u001b[1;32m   1176\u001b[0m                         \u001b[0mframe_number\u001b[0m \u001b[0;34m+=\u001b[0m \u001b[0;36m1\u001b[0m\u001b[0;34m\u001b[0m\u001b[0;34m\u001b[0m\u001b[0m\n\u001b[0;32m-> 1177\u001b[0;31m                 \u001b[0mwriter\u001b[0m\u001b[0;34m.\u001b[0m\u001b[0mgrab_frame\u001b[0m\u001b[0;34m(\u001b[0m\u001b[0;34m**\u001b[0m\u001b[0msavefig_kwargs\u001b[0m\u001b[0;34m)\u001b[0m\u001b[0;34m\u001b[0m\u001b[0;34m\u001b[0m\u001b[0m\n\u001b[0m\u001b[1;32m   1178\u001b[0m \u001b[0;34m\u001b[0m\u001b[0m\n\u001b[1;32m   1179\u001b[0m     \u001b[0;32mdef\u001b[0m \u001b[0m_step\u001b[0m\u001b[0;34m(\u001b[0m\u001b[0mself\u001b[0m\u001b[0;34m,\u001b[0m \u001b[0;34m*\u001b[0m\u001b[0margs\u001b[0m\u001b[0;34m)\u001b[0m\u001b[0;34m:\u001b[0m\u001b[0;34m\u001b[0m\u001b[0;34m\u001b[0m\u001b[0m\n",
      "\u001b[0;32m~/opt/anaconda3/lib/python3.9/contextlib.py\u001b[0m in \u001b[0;36m__exit__\u001b[0;34m(self, typ, value, traceback)\u001b[0m\n\u001b[1;32m    135\u001b[0m                 \u001b[0mvalue\u001b[0m \u001b[0;34m=\u001b[0m \u001b[0mtyp\u001b[0m\u001b[0;34m(\u001b[0m\u001b[0;34m)\u001b[0m\u001b[0;34m\u001b[0m\u001b[0;34m\u001b[0m\u001b[0m\n\u001b[1;32m    136\u001b[0m             \u001b[0;32mtry\u001b[0m\u001b[0;34m:\u001b[0m\u001b[0;34m\u001b[0m\u001b[0;34m\u001b[0m\u001b[0m\n\u001b[0;32m--> 137\u001b[0;31m                 \u001b[0mself\u001b[0m\u001b[0;34m.\u001b[0m\u001b[0mgen\u001b[0m\u001b[0;34m.\u001b[0m\u001b[0mthrow\u001b[0m\u001b[0;34m(\u001b[0m\u001b[0mtyp\u001b[0m\u001b[0;34m,\u001b[0m \u001b[0mvalue\u001b[0m\u001b[0;34m,\u001b[0m \u001b[0mtraceback\u001b[0m\u001b[0;34m)\u001b[0m\u001b[0;34m\u001b[0m\u001b[0;34m\u001b[0m\u001b[0m\n\u001b[0m\u001b[1;32m    138\u001b[0m             \u001b[0;32mexcept\u001b[0m \u001b[0mStopIteration\u001b[0m \u001b[0;32mas\u001b[0m \u001b[0mexc\u001b[0m\u001b[0;34m:\u001b[0m\u001b[0;34m\u001b[0m\u001b[0;34m\u001b[0m\u001b[0m\n\u001b[1;32m    139\u001b[0m                 \u001b[0;31m# Suppress StopIteration *unless* it's the same exception that\u001b[0m\u001b[0;34m\u001b[0m\u001b[0;34m\u001b[0m\u001b[0m\n",
      "\u001b[0;32m~/opt/anaconda3/lib/python3.9/site-packages/matplotlib/animation.py\u001b[0m in \u001b[0;36msaving\u001b[0;34m(self, fig, outfile, dpi, *args, **kwargs)\u001b[0m\n\u001b[1;32m    236\u001b[0m             \u001b[0;32myield\u001b[0m \u001b[0mself\u001b[0m\u001b[0;34m\u001b[0m\u001b[0;34m\u001b[0m\u001b[0m\n\u001b[1;32m    237\u001b[0m         \u001b[0;32mfinally\u001b[0m\u001b[0;34m:\u001b[0m\u001b[0;34m\u001b[0m\u001b[0;34m\u001b[0m\u001b[0m\n\u001b[0;32m--> 238\u001b[0;31m             \u001b[0mself\u001b[0m\u001b[0;34m.\u001b[0m\u001b[0mfinish\u001b[0m\u001b[0;34m(\u001b[0m\u001b[0;34m)\u001b[0m\u001b[0;34m\u001b[0m\u001b[0;34m\u001b[0m\u001b[0m\n\u001b[0m\u001b[1;32m    239\u001b[0m \u001b[0;34m\u001b[0m\u001b[0m\n\u001b[1;32m    240\u001b[0m \u001b[0;34m\u001b[0m\u001b[0m\n",
      "\u001b[0;32m~/opt/anaconda3/lib/python3.9/site-packages/matplotlib/animation.py\u001b[0m in \u001b[0;36mfinish\u001b[0;34m(self)\u001b[0m\n\u001b[1;32m    345\u001b[0m             \u001b[0moverridden_cleanup\u001b[0m\u001b[0;34m(\u001b[0m\u001b[0;34m)\u001b[0m\u001b[0;34m\u001b[0m\u001b[0;34m\u001b[0m\u001b[0m\n\u001b[1;32m    346\u001b[0m         \u001b[0;32melse\u001b[0m\u001b[0;34m:\u001b[0m\u001b[0;34m\u001b[0m\u001b[0;34m\u001b[0m\u001b[0m\n\u001b[0;32m--> 347\u001b[0;31m             \u001b[0mself\u001b[0m\u001b[0;34m.\u001b[0m\u001b[0m_cleanup\u001b[0m\u001b[0;34m(\u001b[0m\u001b[0;34m)\u001b[0m  \u001b[0;31m# Inline _cleanup() once cleanup() is removed.\u001b[0m\u001b[0;34m\u001b[0m\u001b[0;34m\u001b[0m\u001b[0m\n\u001b[0m\u001b[1;32m    348\u001b[0m \u001b[0;34m\u001b[0m\u001b[0m\n\u001b[1;32m    349\u001b[0m     \u001b[0;32mdef\u001b[0m \u001b[0mgrab_frame\u001b[0m\u001b[0;34m(\u001b[0m\u001b[0mself\u001b[0m\u001b[0;34m,\u001b[0m \u001b[0;34m**\u001b[0m\u001b[0msavefig_kwargs\u001b[0m\u001b[0;34m)\u001b[0m\u001b[0;34m:\u001b[0m\u001b[0;34m\u001b[0m\u001b[0;34m\u001b[0m\u001b[0m\n",
      "\u001b[0;32m~/opt/anaconda3/lib/python3.9/site-packages/matplotlib/animation.py\u001b[0m in \u001b[0;36m_cleanup\u001b[0;34m(self)\u001b[0m\n\u001b[1;32m    376\u001b[0m                 \"MovieWriter stderr:\\n%s\", err)\n\u001b[1;32m    377\u001b[0m         \u001b[0;32mif\u001b[0m \u001b[0mself\u001b[0m\u001b[0;34m.\u001b[0m\u001b[0m_proc\u001b[0m\u001b[0;34m.\u001b[0m\u001b[0mreturncode\u001b[0m\u001b[0;34m:\u001b[0m\u001b[0;34m\u001b[0m\u001b[0;34m\u001b[0m\u001b[0m\n\u001b[0;32m--> 378\u001b[0;31m             raise subprocess.CalledProcessError(\n\u001b[0m\u001b[1;32m    379\u001b[0m                 self._proc.returncode, self._proc.args, out, err)\n\u001b[1;32m    380\u001b[0m \u001b[0;34m\u001b[0m\u001b[0m\n",
      "\u001b[0;31mCalledProcessError\u001b[0m: Command '['ffmpeg', '-f', 'rawvideo', '-vcodec', 'rawvideo', '-s', '720x432', '-pix_fmt', 'rgba', '-r', '15', '-loglevel', 'error', '-i', 'pipe:', '-vcodec', 'h264', '-pix_fmt', 'yuv420p', '-b', '1800k', '-metadata', 'artist=Me', '-y', 'India Confirmed Covid Cases.mp4']' returned non-zero exit status 1."
     ]
    },
    {
     "data": {
      "image/png": "[encoded data removed]",
      "text/plain": [
       "<Figure size 432x288 with 1 Axes>"
      ]
     },
     "metadata": {
      "needs_background": "light"
     },
     "output_type": "display_data"
    }
   ],
   "source": [
    "ani.save('India Confirmed Covid Cases.mp4', writer=writer)"
   ]
  },
  {
   "cell_type": "markdown",
   "id": "ff82fa6f",
   "metadata": {},
   "source": [
    "### Q2. Apply Principal Component Analysis (PCA) to the standardised input parameters of Droplet Data.csv provided in Moodle under Week 8. This dataset has five input parameters, which include area, count, maximum Feret diameter, minimum Feret diameter and perimeter. It also includes the class/category column, which is the response. "
   ]
  },
  {
   "cell_type": "code",
   "execution_count": 14,
   "id": "4a688b74",
   "metadata": {},
   "outputs": [],
   "source": [
    "from sklearn.decomposition import PCA\n",
    "from sklearn.preprocessing import StandardScaler\n",
    "%matplotlib inline"
   ]
  },
  {
   "cell_type": "code",
   "execution_count": 195,
   "id": "52149422",
   "metadata": {
    "scrolled": true
   },
   "outputs": [
    {
     "data": {
      "text/html": [
       "<div>\n",
       "<style scoped>\n",
       "    .dataframe tbody tr th:only-of-type {\n",
       "        vertical-align: middle;\n",
       "    }\n",
       "\n",
       "    .dataframe tbody tr th {\n",
       "        vertical-align: top;\n",
       "    }\n",
       "\n",
       "    .dataframe thead th {\n",
       "        text-align: right;\n",
       "    }\n",
       "</style>\n",
       "<table border=\"1\" class=\"dataframe\">\n",
       "  <thead>\n",
       "    <tr style=\"text-align: right;\">\n",
       "      <th></th>\n",
       "      <th>Area</th>\n",
       "      <th>Count</th>\n",
       "      <th>maxFeret</th>\n",
       "      <th>minFeret</th>\n",
       "      <th>Perimeter</th>\n",
       "      <th>class</th>\n",
       "    </tr>\n",
       "  </thead>\n",
       "  <tbody>\n",
       "    <tr>\n",
       "      <th>1</th>\n",
       "      <td>34.597073</td>\n",
       "      <td>1394</td>\n",
       "      <td>7.178624</td>\n",
       "      <td>4.846646</td>\n",
       "      <td>24.155433</td>\n",
       "      <td>U</td>\n",
       "    </tr>\n",
       "    <tr>\n",
       "      <th>2</th>\n",
       "      <td>37.834522</td>\n",
       "      <td>1294</td>\n",
       "      <td>7.534622</td>\n",
       "      <td>5.069885</td>\n",
       "      <td>25.006611</td>\n",
       "      <td>U</td>\n",
       "    </tr>\n",
       "    <tr>\n",
       "      <th>3</th>\n",
       "      <td>37.423876</td>\n",
       "      <td>1338</td>\n",
       "      <td>7.354161</td>\n",
       "      <td>4.994525</td>\n",
       "      <td>24.084755</td>\n",
       "      <td>U</td>\n",
       "    </tr>\n",
       "    <tr>\n",
       "      <th>4</th>\n",
       "      <td>36.133785</td>\n",
       "      <td>1374</td>\n",
       "      <td>7.267336</td>\n",
       "      <td>4.817726</td>\n",
       "      <td>23.775612</td>\n",
       "      <td>U</td>\n",
       "    </tr>\n",
       "    <tr>\n",
       "      <th>5</th>\n",
       "      <td>31.652493</td>\n",
       "      <td>1566</td>\n",
       "      <td>6.917425</td>\n",
       "      <td>4.656928</td>\n",
       "      <td>22.818458</td>\n",
       "      <td>U</td>\n",
       "    </tr>\n",
       "  </tbody>\n",
       "</table>\n",
       "</div>"
      ],
      "text/plain": [
       "        Area  Count  maxFeret  minFeret  Perimeter class\n",
       "1  34.597073   1394  7.178624  4.846646  24.155433     U\n",
       "2  37.834522   1294  7.534622  5.069885  25.006611     U\n",
       "3  37.423876   1338  7.354161  4.994525  24.084755     U\n",
       "4  36.133785   1374  7.267336  4.817726  23.775612     U\n",
       "5  31.652493   1566  6.917425  4.656928  22.818458     U"
      ]
     },
     "execution_count": 195,
     "metadata": {},
     "output_type": "execute_result"
    }
   ],
   "source": [
    "# working on droplet data set\n",
    "data = pd.read_csv('DropletData.csv',index_col=0)\n",
    "data.head()"
   ]
  },
  {
   "cell_type": "code",
   "execution_count": 16,
   "id": "abc00444",
   "metadata": {},
   "outputs": [
    {
     "data": {
      "text/plain": [
       "<seaborn.axisgrid.PairGrid at 0x7fd55c5590d0>"
      ]
     },
     "execution_count": 16,
     "metadata": {},
     "output_type": "execute_result"
    },
    {
     "data": {
      "image/png": "[encoded data removed]",
      "text/plain": [
       "<Figure size 944.625x900 with 30 Axes>"
      ]
     },
     "metadata": {
      "needs_background": "light"
     },
     "output_type": "display_data"
    }
   ],
   "source": [
    "# lets see in a graph\n",
    "sns.pairplot(data= data, hue='class')"
   ]
  },
  {
   "cell_type": "code",
   "execution_count": 17,
   "id": "26e84785",
   "metadata": {},
   "outputs": [
    {
     "name": "stdout",
     "output_type": "stream",
     "text": [
      "[[3.45970732e+01 1.39400000e+03 7.17862410e+00 4.84664562e+00\n",
      "  2.41554333e+01]\n",
      " [3.78345224e+01 1.29400000e+03 7.53462210e+00 5.06988485e+00\n",
      "  2.50066113e+01]\n",
      " [3.74238759e+01 1.33800000e+03 7.35416069e+00 4.99452466e+00\n",
      "  2.40847549e+01]\n",
      " [3.61337853e+01 1.37400000e+03 7.26733552e+00 4.81772635e+00\n",
      "  2.37756121e+01]\n",
      " [3.16524930e+01 1.56600000e+03 6.91742529e+00 4.65692784e+00\n",
      "  2.28184585e+01]\n",
      " [3.67687650e+01 1.40400000e+03 7.36201709e+00 4.93894231e+00\n",
      "  2.42178825e+01]\n",
      " [3.65176131e+01 1.38800000e+03 7.22069524e+00 4.85047694e+00\n",
      "  2.40002413e+01]\n",
      " [3.53461972e+01 1.37900000e+03 7.16657215e+00 4.81494851e+00\n",
      "  2.38266875e+01]\n",
      " [3.59270670e+01 1.38700000e+03 7.40359697e+00 4.90613626e+00\n",
      "  2.43376914e+01]\n",
      " [3.65293056e+01 1.36800000e+03 7.33229678e+00 4.92938450e+00\n",
      "  2.43722807e+01]\n",
      " [3.14644542e+01 1.53000000e+03 7.07106536e+00 4.75777190e+00\n",
      "  2.32567183e+01]\n",
      " [3.10658601e+01 1.58700000e+03 7.00827788e+00 4.70174039e+00\n",
      "  2.26803567e+01]\n",
      " [3.17739929e+01 1.54700000e+03 7.09062314e+00 4.72929476e+00\n",
      "  2.29677014e+01]\n",
      " [3.21955026e+01 1.52200000e+03 7.15820237e+00 4.80726084e+00\n",
      "  2.31251196e+01]\n",
      " [3.66659648e+01 1.42000000e+03 7.59248451e+00 5.06530352e+00\n",
      "  2.47020035e+01]\n",
      " [3.33395851e+01 1.47500000e+03 7.05224271e+00 4.72989559e+00\n",
      "  2.29346997e+01]\n",
      " [3.33305032e+01 1.54200000e+03 7.25069001e+00 4.87069585e+00\n",
      "  2.34190026e+01]\n",
      " [3.85527174e+01 1.41900000e+03 7.67629246e+00 5.21381677e+00\n",
      "  2.45323277e+01]\n",
      " [3.65037913e+01 1.40400000e+03 7.51597863e+00 5.14670798e+00\n",
      "  2.45107892e+01]\n",
      " [3.63488634e+01 1.39800000e+03 7.55210229e+00 5.06231688e+00\n",
      "  2.44535458e+01]\n",
      " [3.06449988e+01 1.66100000e+03 7.05324804e+00 4.72672607e+00\n",
      "  2.22852125e+01]\n",
      " [3.43837603e+01 1.52300000e+03 7.53016940e+00 5.03181484e+00\n",
      "  2.39373211e+01]\n",
      " [3.57496108e+01 1.48000000e+03 7.60311487e+00 5.13426757e+00\n",
      "  2.42649081e+01]\n",
      " [3.92312323e+01 1.36900000e+03 7.70012710e+00 5.15843901e+00\n",
      "  2.46131490e+01]\n",
      " [3.84668447e+01 1.39700000e+03 7.69634073e+00 5.22940659e+00\n",
      "  2.48401725e+01]\n",
      " [3.42733198e+01 1.49800000e+03 7.41014286e+00 5.02837116e+00\n",
      "  2.37644853e+01]\n",
      " [3.29001455e+01 1.51200000e+03 7.20244577e+00 4.81904630e+00\n",
      "  2.30062017e+01]\n",
      " [3.21590258e+01 1.59000000e+03 7.29199308e+00 4.90855975e+00\n",
      "  2.33560830e+01]\n",
      " [3.32134822e+01 1.51400000e+03 7.28769551e+00 4.95212616e+00\n",
      "  2.32506823e+01]\n",
      " [3.37834625e+01 1.47900000e+03 7.30343543e+00 4.95256457e+00\n",
      "  2.37164672e+01]\n",
      " [2.74812776e+01 1.76900000e+03 6.80012380e+00 4.58958564e+00\n",
      "  2.14776071e+01]\n",
      " [2.48317594e+01 1.89500000e+03 6.49340422e+00 4.31615040e+00\n",
      "  2.03849800e+01]\n",
      " [2.83254609e+01 1.73800000e+03 6.84994246e+00 4.62909666e+00\n",
      "  2.17997745e+01]\n",
      " [2.65169147e+01 1.82900000e+03 6.74530345e+00 4.50914215e+00\n",
      "  2.12502493e+01]\n",
      " [2.70711072e+01 1.85600000e+03 6.81997953e+00 4.57346175e+00\n",
      "  2.15035156e+01]\n",
      " [2.58220253e+01 1.82000000e+03 6.65618517e+00 4.39594231e+00\n",
      "  2.09510621e+01]\n",
      " [2.76368102e+01 1.80700000e+03 6.78780133e+00 4.47375982e+00\n",
      "  2.12836563e+01]\n",
      " [2.68319071e+01 1.80800000e+03 6.70257301e+00 4.49250498e+00\n",
      "  2.11957102e+01]\n",
      " [2.74673411e+01 1.80300000e+03 6.91596450e+00 4.58338491e+00\n",
      "  2.18436328e+01]\n",
      " [2.49770656e+01 1.92100000e+03 6.50132691e+00 4.38686726e+00\n",
      "  2.06557173e+01]\n",
      " [1.89627978e+01 2.40800000e+03 5.91365532e+00 3.94020847e+00\n",
      "  1.82768443e+01]\n",
      " [1.88976083e+01 2.47900000e+03 5.87023356e+00 3.91603832e+00\n",
      "  1.80395357e+01]\n",
      " [1.83897482e+01 2.50600000e+03 5.83928851e+00 3.87593017e+00\n",
      "  1.80163962e+01]\n",
      " [1.82618682e+01 2.48900000e+03 5.83002330e+00 3.91122017e+00\n",
      "  1.80289775e+01]\n",
      " [1.83382401e+01 2.40700000e+03 5.83578812e+00 3.88610137e+00\n",
      "  1.80882975e+01]\n",
      " [1.88513936e+01 2.48700000e+03 5.87146120e+00 3.94459992e+00\n",
      "  1.81514576e+01]\n",
      " [1.89106489e+01 2.48900000e+03 5.92521655e+00 3.97247007e+00\n",
      "  1.82939972e+01]\n",
      " [1.89474861e+01 2.45400000e+03 5.91506113e+00 3.95088264e+00\n",
      "  1.81983346e+01]\n",
      " [1.99713284e+01 2.43300000e+03 6.03887793e+00 4.05033498e+00\n",
      "  1.86245080e+01]\n",
      " [1.94978991e+01 2.50700000e+03 5.96320064e+00 3.99454886e+00\n",
      "  1.83655277e+01]\n",
      " [1.17078531e+01 3.80500000e+03 4.83585309e+00 3.22678502e+00\n",
      "  1.45151017e+01]\n",
      " [1.13168128e+01 3.84600000e+03 4.79451950e+00 3.17720411e+00\n",
      "  1.43747834e+01]\n",
      " [1.25255207e+01 3.77800000e+03 5.01965802e+00 3.31809132e+00\n",
      "  1.52579095e+01]\n",
      " [1.29187003e+01 3.71400000e+03 5.01413274e+00 3.41254120e+00\n",
      "  1.51106470e+01]\n",
      " [1.22452609e+01 3.65700000e+03 4.92030845e+00 3.30093656e+00\n",
      "  1.47937739e+01]\n",
      " [1.28916649e+01 3.54500000e+03 5.04742369e+00 3.40534951e+00\n",
      "  1.52300494e+01]\n",
      " [1.18385513e+01 3.76000000e+03 4.88382181e+00 3.24041064e+00\n",
      "  1.46184798e+01]\n",
      " [1.28692008e+01 3.65600000e+03 5.01879349e+00 3.39678802e+00\n",
      "  1.51468468e+01]\n",
      " [1.11748330e+01 3.89200000e+03 4.78090750e+00 3.16777852e+00\n",
      "  1.43604825e+01]\n",
      " [1.12060996e+01 3.85700000e+03 4.77011486e+00 3.17607752e+00\n",
      "  1.43259518e+01]\n",
      " [1.10887940e+01 4.00900000e+03 4.75739386e+00 3.16217112e+00\n",
      "  1.43284233e+01]\n",
      " [1.02838578e+01 4.24800000e+03 4.59634675e+00 3.06968150e+00\n",
      "  1.37453524e+01]\n",
      " [1.14125760e+01 4.20000000e+03 4.81923786e+00 3.22794619e+00\n",
      "  1.44014905e+01]\n",
      " [1.06973708e+01 4.32300000e+03 4.67010618e+00 3.12530696e+00\n",
      "  1.39164143e+01]\n",
      " [1.04258105e+01 4.14700000e+03 4.66211430e+00 3.09718954e+00\n",
      "  1.38792505e+01]\n",
      " [1.06793416e+01 4.13100000e+03 4.69727088e+00 3.14227233e+00\n",
      "  1.40598218e+01]\n",
      " [1.11139809e+01 4.23900000e+03 4.74717952e+00 3.19370984e+00\n",
      "  1.41393708e+01]\n",
      " [1.10117975e+01 4.23300000e+03 4.72890361e+00 3.15129506e+00\n",
      "  1.40977439e+01]\n",
      " [1.05503461e+01 4.20700000e+03 4.63826789e+00 3.10711885e+00\n",
      "  1.37734367e+01]\n",
      " [1.06431412e+01 4.20800000e+03 4.63633531e+00 3.09263783e+00\n",
      "  1.37474646e+01]\n",
      " [1.03137134e+01 4.57700000e+03 4.60036640e+00 3.09322176e+00\n",
      "  1.36976327e+01]\n",
      " [9.79485875e+00 4.63000000e+03 4.53838380e+00 3.00700000e+00\n",
      "  1.35468564e+01]\n",
      " [9.44546084e+00 4.52000000e+03 4.46364159e+00 2.95979491e+00\n",
      "  1.32664996e+01]\n",
      " [1.02739322e+01 4.57400000e+03 4.59987385e+00 3.06657324e+00\n",
      "  1.37430831e+01]\n",
      " [9.67432212e+00 4.54800000e+03 4.50466315e+00 2.98056398e+00\n",
      "  1.35289362e+01]\n",
      " [9.96707441e+00 4.50200000e+03 4.55689982e+00 3.04061661e+00\n",
      "  1.35910311e+01]\n",
      " [1.00616590e+01 4.49600000e+03 4.57559809e+00 3.05594106e+00\n",
      "  1.35381913e+01]\n",
      " [1.01013406e+01 4.56200000e+03 4.60024573e+00 3.04794893e+00\n",
      "  1.36892964e+01]\n",
      " [9.60227839e+00 4.44700000e+03 4.49841624e+00 2.98978907e+00\n",
      "  1.33882923e+01]\n",
      " [1.06212137e+01 4.45000000e+03 4.65390989e+00 3.12967213e+00\n",
      "  1.38416431e+01]\n",
      " [1.04433875e+01 4.52600000e+03 4.64086279e+00 3.09856474e+00\n",
      "  1.37931275e+01]\n",
      " [1.05879851e+01 4.29700000e+03 4.64691878e+00 3.15190342e+00\n",
      "  1.37309946e+01]\n",
      " [1.06239847e+01 4.26100000e+03 4.65400070e+00 3.14564304e+00\n",
      "  1.37863006e+01]\n",
      " [1.04915754e+01 4.38800000e+03 4.64877097e+00 3.08351276e+00\n",
      "  1.38411541e+01]\n",
      " [1.02377776e+01 4.51900000e+03 4.59523567e+00 3.05890640e+00\n",
      "  1.35823483e+01]\n",
      " [1.01904748e+01 4.46700000e+03 4.58090128e+00 3.06083165e+00\n",
      "  1.35715035e+01]\n",
      " [1.04422806e+01 4.51200000e+03 4.63903413e+00 3.10956073e+00\n",
      "  1.37206443e+01]\n",
      " [9.65422566e+00 4.52000000e+03 4.49362323e+00 2.98181593e+00\n",
      "  1.33142493e+01]\n",
      " [1.00615991e+01 4.48000000e+03 4.58701384e+00 3.03907187e+00\n",
      "  1.35487167e+01]\n",
      " [1.02814629e+01 4.53700000e+03 4.60835001e+00 3.07755301e+00\n",
      "  1.36575980e+01]\n",
      " [1.11030905e+01 4.10100000e+03 4.74405121e+00 3.16999195e+00\n",
      "  1.42650083e+01]\n",
      " [1.04986202e+01 4.21800000e+03 4.66656614e+00 3.10371076e+00\n",
      "  1.38960524e+01]\n",
      " [1.18228887e+01 3.97000000e+03 4.84890025e+00 3.28204559e+00\n",
      "  1.44339297e+01]\n",
      " [1.11007852e+01 4.16700000e+03 4.76960715e+00 3.17692201e+00\n",
      "  1.41870607e+01]\n",
      " [1.08538714e+01 4.19800000e+03 4.71874274e+00 3.13569128e+00\n",
      "  1.40478661e+01]\n",
      " [1.10165554e+01 4.10700000e+03 4.72126224e+00 3.15174385e+00\n",
      "  1.39391157e+01]\n",
      " [1.01299009e+01 4.26700000e+03 4.59245981e+00 3.05082751e+00\n",
      "  1.36248913e+01]\n",
      " [1.12136625e+01 4.26100000e+03 4.78950458e+00 3.20056865e+00\n",
      "  1.43561641e+01]\n",
      " [1.07897543e+01 4.14800000e+03 4.68896794e+00 3.10861403e+00\n",
      "  1.41283231e+01]\n",
      " [1.09561372e+01 4.25600000e+03 4.73883271e+00 3.15005052e+00\n",
      "  1.41632643e+01]\n",
      " [1.05075135e+01 4.07400000e+03 4.66578375e+00 3.07369072e+00\n",
      "  1.40320763e+01]\n",
      " [1.07126975e+01 4.22100000e+03 4.68284767e+00 3.09055721e+00\n",
      "  1.40481737e+01]\n",
      " [1.00825871e+01 4.25000000e+03 4.55735388e+00 3.01150777e+00\n",
      "  1.36400694e+01]\n",
      " [1.02481961e+01 4.21700000e+03 4.63127105e+00 3.06056011e+00\n",
      "  1.38866083e+01]\n",
      " [1.08321716e+01 4.24900000e+03 4.73114262e+00 3.12636314e+00\n",
      "  1.42207230e+01]\n",
      " [1.13316926e+01 4.12500000e+03 4.80455394e+00 3.20961649e+00\n",
      "  1.43902281e+01]\n",
      " [1.08520791e+01 4.15900000e+03 4.72477807e+00 3.13108800e+00\n",
      "  1.41375901e+01]\n",
      " [1.09625736e+01 4.17700000e+03 4.73514652e+00 3.13884558e+00\n",
      "  1.42550414e+01]\n",
      " [1.13422317e+01 4.09600000e+03 4.80518066e+00 3.20321387e+00\n",
      "  1.44395427e+01]\n",
      " [1.11857108e+01 4.07600000e+03 4.79700834e+00 3.18483366e+00\n",
      "  1.44604877e+01]\n",
      " [9.79089314e+00 4.54800000e+03 4.54238698e+00 3.03330827e+00\n",
      "  1.34561222e+01]\n",
      " [9.95550514e+00 4.57300000e+03 4.58303280e+00 3.05260792e+00\n",
      "  1.35603431e+01]\n",
      " [9.70690901e+00 4.61600000e+03 4.48728791e+00 3.00991096e+00\n",
      "  1.32348995e+01]\n",
      " [9.70702790e+00 4.62400000e+03 4.51248832e+00 2.99895913e+00\n",
      "  1.33064922e+01]\n",
      " [9.55449252e+00 4.61300000e+03 4.48284283e+00 2.99821548e+00\n",
      "  1.32406768e+01]\n",
      " [9.98620679e+00 4.71500000e+03 4.55141697e+00 3.04408653e+00\n",
      "  1.35019022e+01]\n",
      " [1.01521021e+01 4.68100000e+03 4.61822025e+00 3.09168105e+00\n",
      "  1.37548629e+01]\n",
      " [9.67327457e+00 4.89500000e+03 4.52577978e+00 3.00465005e+00\n",
      "  1.33447334e+01]\n",
      " [9.24464256e+00 4.74200000e+03 4.44116048e+00 2.93986229e+00\n",
      "  1.32342902e+01]\n",
      " [9.53542729e+00 4.80000000e+03 4.47329104e+00 2.98795125e+00\n",
      "  1.32897946e+01]\n",
      " [8.24481516e+00 5.65900000e+03 4.25561901e+00 2.80493638e+00\n",
      "  1.25271002e+01]\n",
      " [7.74544311e+00 5.73000000e+03 4.12753979e+00 2.73436841e+00\n",
      "  1.20857274e+01]\n",
      " [7.99831319e+00 5.74100000e+03 4.18211897e+00 2.75775649e+00\n",
      "  1.24191528e+01]\n",
      " [7.01941789e+00 5.87000000e+03 3.96966201e+00 2.60332538e+00\n",
      "  1.15913750e+01]\n",
      " [7.27797943e+00 5.83500000e+03 4.01641131e+00 2.65812116e+00\n",
      "  1.17133325e+01]\n",
      " [7.89419900e+00 5.80900000e+03 4.13009434e+00 2.75983285e+00\n",
      "  1.20098581e+01]\n",
      " [7.33794996e+00 5.75600000e+03 4.01162630e+00 2.64398332e+00\n",
      "  1.16481074e+01]\n",
      " [8.10367248e+00 5.73100000e+03 4.18497714e+00 2.80042593e+00\n",
      "  1.22171843e+01]\n",
      " [7.85762879e+00 5.73800000e+03 4.16178372e+00 2.73286197e+00\n",
      "  1.21440244e+01]\n",
      " [7.86304597e+00 5.28600000e+03 4.17783466e+00 2.72944457e+00\n",
      "  1.24585030e+01]\n",
      " [6.71706855e+00 6.55000000e+03 3.83520718e+00 2.55166382e+00\n",
      "  1.09724986e+01]\n",
      " [6.99957799e+00 6.46900000e+03 3.93092039e+00 2.60890941e+00\n",
      "  1.13455126e+01]\n",
      " [7.49924889e+00 6.32000000e+03 4.05135728e+00 2.68131361e+00\n",
      "  1.17674350e+01]\n",
      " [6.67271173e+00 6.48700000e+03 3.86320980e+00 2.55403915e+00\n",
      "  1.11190056e+01]\n",
      " [6.97063863e+00 6.49200000e+03 3.92690450e+00 2.60035351e+00\n",
      "  1.13317796e+01]\n",
      " [7.37516995e+00 6.44300000e+03 4.00688530e+00 2.66052212e+00\n",
      "  1.15501850e+01]\n",
      " [7.36495048e+00 6.40100000e+03 3.96249086e+00 2.66166802e+00\n",
      "  1.13026649e+01]\n",
      " [6.63127687e+00 6.49400000e+03 3.84233215e+00 2.53843702e+00\n",
      "  1.10080496e+01]\n",
      " [7.33128273e+00 6.42300000e+03 4.00243515e+00 2.64429005e+00\n",
      "  1.15374736e+01]\n",
      " [7.51714229e+00 6.03700000e+03 4.09648517e+00 2.68759682e+00\n",
      "  1.19554313e+01]\n",
      " [7.37626007e+00 6.38300000e+03 4.04162134e+00 2.66766097e+00\n",
      "  1.19346072e+01]\n",
      " [7.31485976e+00 6.38200000e+03 4.02271467e+00 2.64582059e+00\n",
      "  1.17827017e+01]\n",
      " [6.76833237e+00 6.57100000e+03 3.89513940e+00 2.55588769e+00\n",
      "  1.12766443e+01]\n",
      " [7.02656475e+00 6.61000000e+03 3.95113510e+00 2.61022073e+00\n",
      "  1.13999823e+01]\n",
      " [7.60175972e+00 6.24700000e+03 4.10676149e+00 2.69828510e+00\n",
      "  1.21491417e+01]\n",
      " [6.67115978e+00 6.39000000e+03 3.89348811e+00 2.54067418e+00\n",
      "  1.13822119e+01]\n",
      " [6.71367568e+00 6.65700000e+03 3.89815052e+00 2.55399700e+00\n",
      "  1.12992020e+01]\n",
      " [6.99074996e+00 6.20700000e+03 3.95335267e+00 2.58588642e+00\n",
      "  1.16825663e+01]\n",
      " [7.25034656e+00 6.09700000e+03 4.02688781e+00 2.62231048e+00\n",
      "  1.19886630e+01]\n",
      " [6.76849043e+00 6.47800000e+03 3.88996743e+00 2.56011192e+00\n",
      "  1.13993449e+01]] [['U']\n",
      " ['U']\n",
      " ['U']\n",
      " ['U']\n",
      " ['U']\n",
      " ['U']\n",
      " ['U']\n",
      " ['U']\n",
      " ['U']\n",
      " ['U']\n",
      " ['U']\n",
      " ['U']\n",
      " ['U']\n",
      " ['U']\n",
      " ['U']\n",
      " ['U']\n",
      " ['U']\n",
      " ['U']\n",
      " ['U']\n",
      " ['U']\n",
      " ['U']\n",
      " ['U']\n",
      " ['U']\n",
      " ['U']\n",
      " ['U']\n",
      " ['U']\n",
      " ['U']\n",
      " ['U']\n",
      " ['U']\n",
      " ['U']\n",
      " ['U']\n",
      " ['U']\n",
      " ['U']\n",
      " ['U']\n",
      " ['U']\n",
      " ['U']\n",
      " ['U']\n",
      " ['U']\n",
      " ['U']\n",
      " ['U']\n",
      " ['U']\n",
      " ['U']\n",
      " ['U']\n",
      " ['U']\n",
      " ['U']\n",
      " ['U']\n",
      " ['U']\n",
      " ['U']\n",
      " ['U']\n",
      " ['U']\n",
      " ['M']\n",
      " ['M']\n",
      " ['M']\n",
      " ['M']\n",
      " ['M']\n",
      " ['M']\n",
      " ['M']\n",
      " ['M']\n",
      " ['M']\n",
      " ['M']\n",
      " ['M']\n",
      " ['M']\n",
      " ['M']\n",
      " ['M']\n",
      " ['M']\n",
      " ['M']\n",
      " ['M']\n",
      " ['M']\n",
      " ['M']\n",
      " ['M']\n",
      " ['M']\n",
      " ['M']\n",
      " ['M']\n",
      " ['M']\n",
      " ['M']\n",
      " ['M']\n",
      " ['M']\n",
      " ['M']\n",
      " ['M']\n",
      " ['M']\n",
      " ['M']\n",
      " ['M']\n",
      " ['M']\n",
      " ['M']\n",
      " ['M']\n",
      " ['M']\n",
      " ['M']\n",
      " ['M']\n",
      " ['M']\n",
      " ['M']\n",
      " ['M']\n",
      " ['M']\n",
      " ['M']\n",
      " ['M']\n",
      " ['M']\n",
      " ['M']\n",
      " ['M']\n",
      " ['M']\n",
      " ['M']\n",
      " ['M']\n",
      " ['M']\n",
      " ['M']\n",
      " ['M']\n",
      " ['M']\n",
      " ['M']\n",
      " ['M']\n",
      " ['M']\n",
      " ['M']\n",
      " ['M']\n",
      " ['M']\n",
      " ['M']\n",
      " ['M']\n",
      " ['M']\n",
      " ['M']\n",
      " ['M']\n",
      " ['M']\n",
      " ['M']\n",
      " ['M']\n",
      " ['M']\n",
      " ['M']\n",
      " ['A']\n",
      " ['A']\n",
      " ['A']\n",
      " ['A']\n",
      " ['A']\n",
      " ['A']\n",
      " ['A']\n",
      " ['A']\n",
      " ['A']\n",
      " ['A']\n",
      " ['T']\n",
      " ['T']\n",
      " ['T']\n",
      " ['T']\n",
      " ['T']\n",
      " ['T']\n",
      " ['T']\n",
      " ['T']\n",
      " ['T']\n",
      " ['T']\n",
      " ['T']\n",
      " ['T']\n",
      " ['T']\n",
      " ['T']\n",
      " ['T']\n",
      " ['T']\n",
      " ['T']\n",
      " ['T']\n",
      " ['T']\n",
      " ['T']]\n"
     ]
    }
   ],
   "source": [
    "# setting 4 feature for our data set or variables\n",
    "features=['Area','Count','maxFeret','minFeret','Perimeter']\n",
    "x=data.loc[:,features].values\n",
    "y=data.loc[:,['class']].values\n",
    "print(x,y)"
   ]
  },
  {
   "cell_type": "code",
   "execution_count": 18,
   "id": "e65528a4",
   "metadata": {},
   "outputs": [
    {
     "data": {
      "text/html": [
       "<div>\n",
       "<style scoped>\n",
       "    .dataframe tbody tr th:only-of-type {\n",
       "        vertical-align: middle;\n",
       "    }\n",
       "\n",
       "    .dataframe tbody tr th {\n",
       "        vertical-align: top;\n",
       "    }\n",
       "\n",
       "    .dataframe thead th {\n",
       "        text-align: right;\n",
       "    }\n",
       "</style>\n",
       "<table border=\"1\" class=\"dataframe\">\n",
       "  <thead>\n",
       "    <tr style=\"text-align: right;\">\n",
       "      <th></th>\n",
       "      <th>Area</th>\n",
       "      <th>Count</th>\n",
       "      <th>maxFeret</th>\n",
       "      <th>minFeret</th>\n",
       "      <th>Perimeter</th>\n",
       "    </tr>\n",
       "  </thead>\n",
       "  <tbody>\n",
       "    <tr>\n",
       "      <th>0</th>\n",
       "      <td>1.739649</td>\n",
       "      <td>-1.448516</td>\n",
       "      <td>1.532514</td>\n",
       "      <td>1.557877</td>\n",
       "      <td>1.760829</td>\n",
       "    </tr>\n",
       "    <tr>\n",
       "      <th>1</th>\n",
       "      <td>2.049832</td>\n",
       "      <td>-1.508493</td>\n",
       "      <td>1.821726</td>\n",
       "      <td>1.822674</td>\n",
       "      <td>1.950229</td>\n",
       "    </tr>\n",
       "    <tr>\n",
       "      <th>2</th>\n",
       "      <td>2.010488</td>\n",
       "      <td>-1.482103</td>\n",
       "      <td>1.675120</td>\n",
       "      <td>1.733285</td>\n",
       "      <td>1.745102</td>\n",
       "    </tr>\n",
       "    <tr>\n",
       "      <th>3</th>\n",
       "      <td>1.886883</td>\n",
       "      <td>-1.460511</td>\n",
       "      <td>1.604583</td>\n",
       "      <td>1.523574</td>\n",
       "      <td>1.676313</td>\n",
       "    </tr>\n",
       "    <tr>\n",
       "      <th>4</th>\n",
       "      <td>1.457526</td>\n",
       "      <td>-1.345356</td>\n",
       "      <td>1.320317</td>\n",
       "      <td>1.332841</td>\n",
       "      <td>1.463332</td>\n",
       "    </tr>\n",
       "  </tbody>\n",
       "</table>\n",
       "</div>"
      ],
      "text/plain": [
       "       Area     Count  maxFeret  minFeret  Perimeter\n",
       "0  1.739649 -1.448516  1.532514  1.557877   1.760829\n",
       "1  2.049832 -1.508493  1.821726  1.822674   1.950229\n",
       "2  2.010488 -1.482103  1.675120  1.733285   1.745102\n",
       "3  1.886883 -1.460511  1.604583  1.523574   1.676313\n",
       "4  1.457526 -1.345356  1.320317  1.332841   1.463332"
      ]
     },
     "execution_count": 18,
     "metadata": {},
     "output_type": "execute_result"
    }
   ],
   "source": [
    "# standarize the features values\n",
    "x = StandardScaler().fit_transform(x)\n",
    "pd.DataFrame(data=x,columns=features).head()"
   ]
  },
  {
   "cell_type": "code",
   "execution_count": 19,
   "id": "1487b4c5",
   "metadata": {},
   "outputs": [
    {
     "data": {
      "text/html": [
       "<div>\n",
       "<style scoped>\n",
       "    .dataframe tbody tr th:only-of-type {\n",
       "        vertical-align: middle;\n",
       "    }\n",
       "\n",
       "    .dataframe tbody tr th {\n",
       "        vertical-align: top;\n",
       "    }\n",
       "\n",
       "    .dataframe thead th {\n",
       "        text-align: right;\n",
       "    }\n",
       "</style>\n",
       "<table border=\"1\" class=\"dataframe\">\n",
       "  <thead>\n",
       "    <tr style=\"text-align: right;\">\n",
       "      <th></th>\n",
       "      <th>principal component 1</th>\n",
       "      <th>principal component 2</th>\n",
       "      <th>principal component 3</th>\n",
       "      <th>principal component 4</th>\n",
       "    </tr>\n",
       "  </thead>\n",
       "  <tbody>\n",
       "    <tr>\n",
       "      <th>0</th>\n",
       "      <td>3.596671</td>\n",
       "      <td>0.177705</td>\n",
       "      <td>0.139577</td>\n",
       "      <td>-0.092419</td>\n",
       "    </tr>\n",
       "    <tr>\n",
       "      <th>1</th>\n",
       "      <td>4.096581</td>\n",
       "      <td>0.358027</td>\n",
       "      <td>0.097268</td>\n",
       "      <td>-0.036432</td>\n",
       "    </tr>\n",
       "    <tr>\n",
       "      <th>2</th>\n",
       "      <td>3.868550</td>\n",
       "      <td>0.307467</td>\n",
       "      <td>0.162864</td>\n",
       "      <td>0.085594</td>\n",
       "    </tr>\n",
       "    <tr>\n",
       "      <th>3</th>\n",
       "      <td>3.646536</td>\n",
       "      <td>0.230047</td>\n",
       "      <td>0.215934</td>\n",
       "      <td>0.004353</td>\n",
       "    </tr>\n",
       "    <tr>\n",
       "      <th>4</th>\n",
       "      <td>3.094371</td>\n",
       "      <td>0.040972</td>\n",
       "      <td>0.122032</td>\n",
       "      <td>-0.047153</td>\n",
       "    </tr>\n",
       "  </tbody>\n",
       "</table>\n",
       "</div>"
      ],
      "text/plain": [
       "   principal component 1  principal component 2  principal component 3  \\\n",
       "0               3.596671               0.177705               0.139577   \n",
       "1               4.096581               0.358027               0.097268   \n",
       "2               3.868550               0.307467               0.162864   \n",
       "3               3.646536               0.230047               0.215934   \n",
       "4               3.094371               0.040972               0.122032   \n",
       "\n",
       "   principal component 4  \n",
       "0              -0.092419  \n",
       "1              -0.036432  \n",
       "2               0.085594  \n",
       "3               0.004353  \n",
       "4              -0.047153  "
      ]
     },
     "execution_count": 19,
     "metadata": {},
     "output_type": "execute_result"
    }
   ],
   "source": [
    "# Difining PCA Model\n",
    "pca = PCA(n_components=4)\n",
    "principalComponents = pca.fit_transform(x)\n",
    "principalDf = pd.DataFrame(data = principalComponents\n",
    "             , columns = ['principal component 1', 'principal component 2','principal component 3','principal component 4'])\n",
    "principalDf.head(5)"
   ]
  },
  {
   "cell_type": "code",
   "execution_count": 22,
   "id": "a57f5dbd",
   "metadata": {},
   "outputs": [],
   "source": [
    "finalDf = pd.concat([principalDf,data[['class']]],axis=1)"
   ]
  },
  {
   "cell_type": "code",
   "execution_count": 23,
   "id": "8acb4f0a",
   "metadata": {},
   "outputs": [
    {
     "data": {
      "image/png": "[encoded data removed]",
      "text/plain": [
       "<Figure size 720x576 with 1 Axes>"
      ]
     },
     "metadata": {
      "needs_background": "light"
     },
     "output_type": "display_data"
    }
   ],
   "source": [
    "fig = plt.figure(figsize = (10,8))\n",
    "ax = fig.add_subplot(1,1,1) \n",
    "ax.set_xlabel('Principal Component 1', fontsize = 15)\n",
    "ax.set_ylabel('Principal Component 2', fontsize = 15)\n",
    "ax.set_title('PCA1 v PCA2', fontsize = 20)\n",
    "\n",
    "\n",
    "targets = ['U','M','A','T']\n",
    "colors = ['r', 'g', 'b','c']\n",
    "for target, color in zip(targets,colors):\n",
    "    indicesToKeep = finalDf['class'] == target\n",
    "    ax.scatter(finalDf.loc[indicesToKeep, 'principal component 1']\n",
    "               , finalDf.loc[indicesToKeep, 'principal component 2']\n",
    "               , c = color\n",
    "               , s = 50)\n",
    "ax.legend(targets)\n",
    "ax.grid()"
   ]
  },
  {
   "cell_type": "markdown",
   "id": "b187a9a7",
   "metadata": {},
   "source": [
    "Visualising more plots for all other PCAs'"
   ]
  },
  {
   "cell_type": "code",
   "execution_count": null,
   "id": "8fc9efd5",
   "metadata": {},
   "outputs": [],
   "source": [
    "fig = plt.figure(figsize = (10,8))\n",
    "ax = fig.add_subplot(1,1,1) \n",
    "ax.set_xlabel('Principal Component 3', fontsize = 15)\n",
    "ax.set_ylabel('Principal Component 4', fontsize = 15)\n",
    "ax.set_title('PCA3 v PCA4', fontsize = 20)\n",
    "\n",
    "\n",
    "targets = ['U','M','A','T']\n",
    "colors = ['r', 'g', 'b','c']\n",
    "for target, color in zip(targets,colors):\n",
    "    indicesToKeep = finalDf['class'] == target\n",
    "    ax.scatter(finalDf.loc[indicesToKeep, 'principal component 3']\n",
    "               , finalDf.loc[indicesToKeep, 'principal component 4']\n",
    "               , c = color\n",
    "               , s = 50)\n",
    "ax.legend(targets)\n",
    "ax.grid()"
   ]
  },
  {
   "cell_type": "code",
   "execution_count": null,
   "id": "83ba9e58",
   "metadata": {},
   "outputs": [],
   "source": [
    "fig = plt.figure(figsize = (10,8))\n",
    "ax = fig.add_subplot(1,1,1) \n",
    "ax.set_xlabel('Principal Component 1', fontsize = 15)\n",
    "ax.set_ylabel('Principal Component 3', fontsize = 15)\n",
    "ax.set_title('PCA1 vs PCA3', fontsize = 20)\n",
    "\n",
    "\n",
    "targets = ['U','M','A','T']\n",
    "colors = ['r', 'g', 'b','c']\n",
    "for target, color in zip(targets,colors):\n",
    "    indicesToKeep = finalDf['class'] == target\n",
    "    ax.scatter(finalDf.loc[indicesToKeep, 'principal component 1']\n",
    "               , finalDf.loc[indicesToKeep, 'principal component 3']\n",
    "               , c = color\n",
    "               , s = 50)\n",
    "ax.legend(targets)\n",
    "ax.grid()"
   ]
  },
  {
   "cell_type": "code",
   "execution_count": null,
   "id": "85996145",
   "metadata": {},
   "outputs": [],
   "source": [
    "fig = plt.figure(figsize = (10,8))\n",
    "ax = fig.add_subplot(1,1,1) \n",
    "ax.set_xlabel('Principal Component 1', fontsize = 15)\n",
    "ax.set_ylabel('Principal Component 4', fontsize = 15)\n",
    "ax.set_title('PCA1 v PCA4', fontsize = 20)\n",
    "\n",
    "\n",
    "targets = ['U','M','A','T']\n",
    "colors = ['r', 'g', 'b','c']\n",
    "for target, color in zip(targets,colors):\n",
    "    indicesToKeep = finalDf['class'] == target\n",
    "    ax.scatter(finalDf.loc[indicesToKeep, 'principal component 1']\n",
    "               , finalDf.loc[indicesToKeep, 'principal component 4']\n",
    "               , c = color\n",
    "               , s = 50)\n",
    "ax.legend(targets)\n",
    "ax.grid()"
   ]
  },
  {
   "cell_type": "code",
   "execution_count": null,
   "id": "bb95bb98",
   "metadata": {},
   "outputs": [],
   "source": [
    "fig = plt.figure(figsize = (10,8))\n",
    "ax = fig.add_subplot(1,1,1) \n",
    "ax.set_xlabel('Principal Component 2', fontsize = 15)\n",
    "ax.set_ylabel('Principal Component 3', fontsize = 15)\n",
    "ax.set_title('PCA2 v PCA3', fontsize = 20)\n",
    "\n",
    "\n",
    "targets = ['U','M','A','T']\n",
    "colors = ['r', 'g', 'b','c']\n",
    "for target, color in zip(targets,colors):\n",
    "    indicesToKeep = finalDf['class'] == target\n",
    "    ax.scatter(finalDf.loc[indicesToKeep, 'principal component 2']\n",
    "               , finalDf.loc[indicesToKeep, 'principal component 3']\n",
    "               , c = color\n",
    "               , s = 50)\n",
    "ax.legend(targets)\n",
    "ax.grid()"
   ]
  },
  {
   "cell_type": "code",
   "execution_count": null,
   "id": "decbd7f8",
   "metadata": {},
   "outputs": [],
   "source": [
    "fig = plt.figure(figsize = (10,8))\n",
    "ax = fig.add_subplot(1,1,1) \n",
    "ax.set_xlabel('Principal Component 1', fontsize = 15)\n",
    "ax.set_ylabel('Principal Component 4', fontsize = 15)\n",
    "ax.set_title('PCA2 v PCA4', fontsize = 20)\n",
    "\n",
    "\n",
    "targets = ['U','M','A','T']\n",
    "colors = ['r', 'g', 'b','c']\n",
    "for target, color in zip(targets,colors):\n",
    "    indicesToKeep = finalDf['class'] == target\n",
    "    ax.scatter(finalDf.loc[indicesToKeep, 'principal component 2']\n",
    "               , finalDf.loc[indicesToKeep, 'principal component 4']\n",
    "               , c = color\n",
    "               , s = 50)\n",
    "ax.legend(targets)\n",
    "ax.grid()"
   ]
  },
  {
   "cell_type": "code",
   "execution_count": 25,
   "id": "b6b84059",
   "metadata": {},
   "outputs": [
    {
     "name": "stdout",
     "output_type": "stream",
     "text": [
      "[[0.44618873 0.43656399 0.45116053 0.451084   0.45089345]\n",
      " [0.49058303 0.84763725 0.09180953 0.08422248 0.15911304]\n",
      " [0.64383834 0.28508128 0.46101373 0.53377787 0.08214852]\n",
      " [0.3607763  0.09315375 0.11910355 0.46561237 0.79384023]]\n"
     ]
    }
   ],
   "source": [
    "# egenvalues\n",
    "print(abs(pca.components_))"
   ]
  },
  {
   "cell_type": "markdown",
   "id": "e6ad98ed",
   "metadata": {},
   "source": [
    "Shows what variable among 4s in the model can explain the dataset better. In Model1 all the variable seems to have equal contribution to the dataset"
   ]
  },
  {
   "cell_type": "code",
   "execution_count": 190,
   "id": "8e6d00bf",
   "metadata": {},
   "outputs": [
    {
     "data": {
      "text/plain": [
       "<AxesSubplot:xlabel='PC'>"
      ]
     },
     "execution_count": 190,
     "metadata": {},
     "output_type": "execute_result"
    },
    {
     "data": {
      "image/png": "[encoded data removed]",
      "text/plain": [
       "<Figure size 432x288 with 1 Axes>"
      ]
     },
     "metadata": {
      "needs_background": "light"
     },
     "output_type": "display_data"
    }
   ],
   "source": [
    "pcdf = pd.DataFrame({'var':pca.explained_variance_ratio_, 'PC':['PC1','PC2','PC3','PC4']})\n",
    "pcdf.plot(y = \"var\", x = \"PC\")"
   ]
  },
  {
   "cell_type": "markdown",
   "id": "a24bec87",
   "metadata": {},
   "source": [
    "#### PC1 could be the best model we could get as it considers all the variables, while the rest focuses moslty on one of the variable. \n",
    "When said that if we want to analyze something we should be considering all the possible variable not just one value and PC1 seems to be a good fit for analying the dataset\n",
    "as the lower variance values tells us that the data lies further away from each other in the cluster, i.e. mostly independent to each other.\n",
    "\n",
    "As shown in the bar graph below"
   ]
  },
  {
   "cell_type": "code",
   "execution_count": 27,
   "id": "5d94e339",
   "metadata": {},
   "outputs": [
    {
     "data": {
      "image/png": "[encoded data removed]",
      "text/plain": [
       "<Figure size 432x288 with 1 Axes>"
      ]
     },
     "metadata": {
      "needs_background": "light"
     },
     "output_type": "display_data"
    }
   ],
   "source": [
    "# see in the graph\n",
    "pcdf = pd.DataFrame({'var':pca.explained_variance_ratio_, 'PC':['PC1','PC2','PC3','PC4']})\n",
    "ax = sns.barplot(x='PC', y=\"var\", data=pcdf, color=\"c\");\n",
    "for i in ax.containers:\n",
    "    ax.bar_label(i,)\n",
    "    "
   ]
  },
  {
   "cell_type": "code",
   "execution_count": 29,
   "id": "4f678d11",
   "metadata": {},
   "outputs": [
    {
     "data": {
      "text/plain": [
       "array([9.80688381e-01, 1.81188408e-02, 8.88029477e-04, 2.33121040e-04])"
      ]
     },
     "execution_count": 29,
     "metadata": {},
     "output_type": "execute_result"
    }
   ],
   "source": [
    "# let see the variance of ratio\n",
    "pca.explained_variance_ratio_"
   ]
  },
  {
   "cell_type": "markdown",
   "id": "073b4d9d",
   "metadata": {},
   "source": [
    "PCA1 has the 98% of confidence to explain the class of the model,  so the area seems to have majority of contribution to explain the dataset. The other three contributes 0.01%,0.0001% and 0.0002% which are very less to explain the appropriate variance. \n",
    "\n",
    "Now lets see the predicted response, using K-means clusterting technique"
   ]
  },
  {
   "cell_type": "code",
   "execution_count": 166,
   "id": "8046d868",
   "metadata": {},
   "outputs": [
    {
     "data": {
      "text/plain": [
       "array([2, 2, 2, 2, 2, 2, 2, 2, 2, 2, 2, 2, 2, 2, 2, 2, 2, 2, 2, 2, 2, 2,\n",
       "       2, 2, 2, 2, 2, 2, 2, 2, 2, 0, 2, 2, 2, 0, 2, 2, 2, 0, 0, 0, 0, 0,\n",
       "       0, 0, 0, 0, 0, 0, 1, 1, 1, 1, 1, 1, 1, 1, 1, 1, 1, 1, 1, 1, 1, 1,\n",
       "       1, 1, 1, 1, 1, 1, 1, 1, 1, 1, 1, 1, 1, 1, 1, 1, 1, 1, 1, 1, 1, 1,\n",
       "       1, 1, 1, 1, 1, 1, 1, 1, 1, 1, 1, 1, 1, 1, 1, 1, 1, 1, 1, 1, 1, 1,\n",
       "       1, 1, 1, 1, 1, 1, 1, 1, 1, 1, 3, 3, 3, 3, 3, 3, 3, 3, 3, 3, 3, 3,\n",
       "       3, 3, 3, 3, 3, 3, 3, 3, 3, 3, 3, 3, 3, 3, 3, 3, 3, 3], dtype=int32)"
      ]
     },
     "execution_count": 166,
     "metadata": {},
     "output_type": "execute_result"
    }
   ],
   "source": [
    "from sklearn.cluster import KMeans\n",
    "\n",
    "nclusters = 4 # this is the k in kmeans\n",
    "seed = 0 # seed is set to reproduce the prediction output/results\n",
    "\n",
    "km = KMeans(n_clusters=nclusters, random_state=seed)\n",
    "km.fit(x)\n",
    "\n",
    "# predict the cluster for each data point\n",
    "y_cluster_kmeans = km.predict(x)\n",
    "y_cluster_kmeans"
   ]
  },
  {
   "cell_type": "code",
   "execution_count": 167,
   "id": "3fdb282e",
   "metadata": {},
   "outputs": [
    {
     "data": {
      "text/html": [
       "<div>\n",
       "<style scoped>\n",
       "    .dataframe tbody tr th:only-of-type {\n",
       "        vertical-align: middle;\n",
       "    }\n",
       "\n",
       "    .dataframe tbody tr th {\n",
       "        vertical-align: top;\n",
       "    }\n",
       "\n",
       "    .dataframe thead th {\n",
       "        text-align: right;\n",
       "    }\n",
       "</style>\n",
       "<table border=\"1\" class=\"dataframe\">\n",
       "  <thead>\n",
       "    <tr style=\"text-align: right;\">\n",
       "      <th></th>\n",
       "      <th>principal component 1</th>\n",
       "      <th>principal component 2</th>\n",
       "      <th>principal component 3</th>\n",
       "      <th>principal component 4</th>\n",
       "    </tr>\n",
       "  </thead>\n",
       "  <tbody>\n",
       "    <tr>\n",
       "      <th>0</th>\n",
       "      <td>3.596671</td>\n",
       "      <td>0.177705</td>\n",
       "      <td>0.139577</td>\n",
       "      <td>-0.092419</td>\n",
       "    </tr>\n",
       "    <tr>\n",
       "      <th>1</th>\n",
       "      <td>4.096581</td>\n",
       "      <td>0.358027</td>\n",
       "      <td>0.097268</td>\n",
       "      <td>-0.036432</td>\n",
       "    </tr>\n",
       "    <tr>\n",
       "      <th>2</th>\n",
       "      <td>3.868550</td>\n",
       "      <td>0.307467</td>\n",
       "      <td>0.162864</td>\n",
       "      <td>0.085594</td>\n",
       "    </tr>\n",
       "    <tr>\n",
       "      <th>3</th>\n",
       "      <td>3.646536</td>\n",
       "      <td>0.230047</td>\n",
       "      <td>0.215934</td>\n",
       "      <td>0.004353</td>\n",
       "    </tr>\n",
       "    <tr>\n",
       "      <th>4</th>\n",
       "      <td>3.094371</td>\n",
       "      <td>0.040972</td>\n",
       "      <td>0.122032</td>\n",
       "      <td>-0.047153</td>\n",
       "    </tr>\n",
       "  </tbody>\n",
       "</table>\n",
       "</div>"
      ],
      "text/plain": [
       "   principal component 1  principal component 2  principal component 3  \\\n",
       "0               3.596671               0.177705               0.139577   \n",
       "1               4.096581               0.358027               0.097268   \n",
       "2               3.868550               0.307467               0.162864   \n",
       "3               3.646536               0.230047               0.215934   \n",
       "4               3.094371               0.040972               0.122032   \n",
       "\n",
       "   principal component 4  \n",
       "0              -0.092419  \n",
       "1              -0.036432  \n",
       "2               0.085594  \n",
       "3               0.004353  \n",
       "4              -0.047153  "
      ]
     },
     "execution_count": 167,
     "metadata": {},
     "output_type": "execute_result"
    }
   ],
   "source": [
    "# pca from original data\n",
    "principalDf.head(5)"
   ]
  },
  {
   "cell_type": "code",
   "execution_count": 168,
   "id": "be6e9e26",
   "metadata": {},
   "outputs": [
    {
     "data": {
      "text/html": [
       "<div>\n",
       "<style scoped>\n",
       "    .dataframe tbody tr th:only-of-type {\n",
       "        vertical-align: middle;\n",
       "    }\n",
       "\n",
       "    .dataframe tbody tr th {\n",
       "        vertical-align: top;\n",
       "    }\n",
       "\n",
       "    .dataframe thead th {\n",
       "        text-align: right;\n",
       "    }\n",
       "</style>\n",
       "<table border=\"1\" class=\"dataframe\">\n",
       "  <thead>\n",
       "    <tr style=\"text-align: right;\">\n",
       "      <th></th>\n",
       "      <th>principal component 1</th>\n",
       "      <th>principal component 2</th>\n",
       "      <th>principal component 3</th>\n",
       "      <th>principal component 4</th>\n",
       "      <th>clusterKmeans</th>\n",
       "      <th>class</th>\n",
       "    </tr>\n",
       "  </thead>\n",
       "  <tbody>\n",
       "    <tr>\n",
       "      <th>0</th>\n",
       "      <td>3.596671</td>\n",
       "      <td>0.177705</td>\n",
       "      <td>0.139577</td>\n",
       "      <td>-0.092419</td>\n",
       "      <td>2</td>\n",
       "      <td>NaN</td>\n",
       "    </tr>\n",
       "    <tr>\n",
       "      <th>1</th>\n",
       "      <td>4.096581</td>\n",
       "      <td>0.358027</td>\n",
       "      <td>0.097268</td>\n",
       "      <td>-0.036432</td>\n",
       "      <td>2</td>\n",
       "      <td>3.0</td>\n",
       "    </tr>\n",
       "    <tr>\n",
       "      <th>2</th>\n",
       "      <td>3.868550</td>\n",
       "      <td>0.307467</td>\n",
       "      <td>0.162864</td>\n",
       "      <td>0.085594</td>\n",
       "      <td>2</td>\n",
       "      <td>3.0</td>\n",
       "    </tr>\n",
       "    <tr>\n",
       "      <th>3</th>\n",
       "      <td>3.646536</td>\n",
       "      <td>0.230047</td>\n",
       "      <td>0.215934</td>\n",
       "      <td>0.004353</td>\n",
       "      <td>2</td>\n",
       "      <td>3.0</td>\n",
       "    </tr>\n",
       "    <tr>\n",
       "      <th>4</th>\n",
       "      <td>3.094371</td>\n",
       "      <td>0.040972</td>\n",
       "      <td>0.122032</td>\n",
       "      <td>-0.047153</td>\n",
       "      <td>2</td>\n",
       "      <td>3.0</td>\n",
       "    </tr>\n",
       "    <tr>\n",
       "      <th>...</th>\n",
       "      <td>...</td>\n",
       "      <td>...</td>\n",
       "      <td>...</td>\n",
       "      <td>...</td>\n",
       "      <td>...</td>\n",
       "      <td>...</td>\n",
       "    </tr>\n",
       "    <tr>\n",
       "      <th>145</th>\n",
       "      <td>-2.624737</td>\n",
       "      <td>0.477363</td>\n",
       "      <td>0.019589</td>\n",
       "      <td>-0.036265</td>\n",
       "      <td>3</td>\n",
       "      <td>2.0</td>\n",
       "    </tr>\n",
       "    <tr>\n",
       "      <th>146</th>\n",
       "      <td>-2.692321</td>\n",
       "      <td>0.613840</td>\n",
       "      <td>-0.035139</td>\n",
       "      <td>-0.028143</td>\n",
       "      <td>3</td>\n",
       "      <td>2.0</td>\n",
       "    </tr>\n",
       "    <tr>\n",
       "      <th>147</th>\n",
       "      <td>-2.486891</td>\n",
       "      <td>0.418966</td>\n",
       "      <td>0.025037</td>\n",
       "      <td>-0.048871</td>\n",
       "      <td>3</td>\n",
       "      <td>2.0</td>\n",
       "    </tr>\n",
       "    <tr>\n",
       "      <th>148</th>\n",
       "      <td>-2.369839</td>\n",
       "      <td>0.395206</td>\n",
       "      <td>0.014852</td>\n",
       "      <td>-0.074819</td>\n",
       "      <td>3</td>\n",
       "      <td>2.0</td>\n",
       "    </tr>\n",
       "    <tr>\n",
       "      <th>149</th>\n",
       "      <td>-2.632789</td>\n",
       "      <td>0.528962</td>\n",
       "      <td>-0.000128</td>\n",
       "      <td>-0.029767</td>\n",
       "      <td>3</td>\n",
       "      <td>2.0</td>\n",
       "    </tr>\n",
       "  </tbody>\n",
       "</table>\n",
       "<p>150 rows × 6 columns</p>\n",
       "</div>"
      ],
      "text/plain": [
       "     principal component 1  principal component 2  principal component 3  \\\n",
       "0                 3.596671               0.177705               0.139577   \n",
       "1                 4.096581               0.358027               0.097268   \n",
       "2                 3.868550               0.307467               0.162864   \n",
       "3                 3.646536               0.230047               0.215934   \n",
       "4                 3.094371               0.040972               0.122032   \n",
       "..                     ...                    ...                    ...   \n",
       "145              -2.624737               0.477363               0.019589   \n",
       "146              -2.692321               0.613840              -0.035139   \n",
       "147              -2.486891               0.418966               0.025037   \n",
       "148              -2.369839               0.395206               0.014852   \n",
       "149              -2.632789               0.528962              -0.000128   \n",
       "\n",
       "     principal component 4  clusterKmeans  class  \n",
       "0                -0.092419              2    NaN  \n",
       "1                -0.036432              2    3.0  \n",
       "2                 0.085594              2    3.0  \n",
       "3                 0.004353              2    3.0  \n",
       "4                -0.047153              2    3.0  \n",
       "..                     ...            ...    ...  \n",
       "145              -0.036265              3    2.0  \n",
       "146              -0.028143              3    2.0  \n",
       "147              -0.048871              3    2.0  \n",
       "148              -0.074819              3    2.0  \n",
       "149              -0.029767              3    2.0  \n",
       "\n",
       "[150 rows x 6 columns]"
      ]
     },
     "execution_count": 168,
     "metadata": {},
     "output_type": "execute_result"
    }
   ],
   "source": [
    "# predicting the lables from randomly generated data\n",
    "data['class'] = data['class'].astype('category')\n",
    "y_array = data['class'].cat.codes\n",
    "\n",
    "df_plot = principalDf.copy()\n",
    "df_plot['clusterKmeans'] = y_cluster_kmeans\n",
    "df_plot['class'] = y_array\n",
    "df_plot"
   ]
  },
  {
   "cell_type": "code",
   "execution_count": 169,
   "id": "795de973",
   "metadata": {},
   "outputs": [
    {
     "data": {
      "text/html": [
       "<div>\n",
       "<style scoped>\n",
       "    .dataframe tbody tr th:only-of-type {\n",
       "        vertical-align: middle;\n",
       "    }\n",
       "\n",
       "    .dataframe tbody tr th {\n",
       "        vertical-align: top;\n",
       "    }\n",
       "\n",
       "    .dataframe thead th {\n",
       "        text-align: right;\n",
       "    }\n",
       "</style>\n",
       "<table border=\"1\" class=\"dataframe\">\n",
       "  <thead>\n",
       "    <tr style=\"text-align: right;\">\n",
       "      <th></th>\n",
       "      <th>principal component 1</th>\n",
       "      <th>principal component 2</th>\n",
       "      <th>principal component 3</th>\n",
       "      <th>principal component 4</th>\n",
       "      <th>clusterKmeans</th>\n",
       "      <th>class</th>\n",
       "    </tr>\n",
       "  </thead>\n",
       "  <tbody>\n",
       "    <tr>\n",
       "      <th>0</th>\n",
       "      <td>3.596671</td>\n",
       "      <td>0.177705</td>\n",
       "      <td>0.139577</td>\n",
       "      <td>-0.092419</td>\n",
       "      <td>2</td>\n",
       "      <td>1.0</td>\n",
       "    </tr>\n",
       "    <tr>\n",
       "      <th>1</th>\n",
       "      <td>4.096581</td>\n",
       "      <td>0.358027</td>\n",
       "      <td>0.097268</td>\n",
       "      <td>-0.036432</td>\n",
       "      <td>2</td>\n",
       "      <td>3.0</td>\n",
       "    </tr>\n",
       "    <tr>\n",
       "      <th>2</th>\n",
       "      <td>3.868550</td>\n",
       "      <td>0.307467</td>\n",
       "      <td>0.162864</td>\n",
       "      <td>0.085594</td>\n",
       "      <td>2</td>\n",
       "      <td>3.0</td>\n",
       "    </tr>\n",
       "    <tr>\n",
       "      <th>3</th>\n",
       "      <td>3.646536</td>\n",
       "      <td>0.230047</td>\n",
       "      <td>0.215934</td>\n",
       "      <td>0.004353</td>\n",
       "      <td>2</td>\n",
       "      <td>3.0</td>\n",
       "    </tr>\n",
       "    <tr>\n",
       "      <th>4</th>\n",
       "      <td>3.094371</td>\n",
       "      <td>0.040972</td>\n",
       "      <td>0.122032</td>\n",
       "      <td>-0.047153</td>\n",
       "      <td>2</td>\n",
       "      <td>3.0</td>\n",
       "    </tr>\n",
       "    <tr>\n",
       "      <th>...</th>\n",
       "      <td>...</td>\n",
       "      <td>...</td>\n",
       "      <td>...</td>\n",
       "      <td>...</td>\n",
       "      <td>...</td>\n",
       "      <td>...</td>\n",
       "    </tr>\n",
       "    <tr>\n",
       "      <th>145</th>\n",
       "      <td>-2.624737</td>\n",
       "      <td>0.477363</td>\n",
       "      <td>0.019589</td>\n",
       "      <td>-0.036265</td>\n",
       "      <td>3</td>\n",
       "      <td>2.0</td>\n",
       "    </tr>\n",
       "    <tr>\n",
       "      <th>146</th>\n",
       "      <td>-2.692321</td>\n",
       "      <td>0.613840</td>\n",
       "      <td>-0.035139</td>\n",
       "      <td>-0.028143</td>\n",
       "      <td>3</td>\n",
       "      <td>2.0</td>\n",
       "    </tr>\n",
       "    <tr>\n",
       "      <th>147</th>\n",
       "      <td>-2.486891</td>\n",
       "      <td>0.418966</td>\n",
       "      <td>0.025037</td>\n",
       "      <td>-0.048871</td>\n",
       "      <td>3</td>\n",
       "      <td>2.0</td>\n",
       "    </tr>\n",
       "    <tr>\n",
       "      <th>148</th>\n",
       "      <td>-2.369839</td>\n",
       "      <td>0.395206</td>\n",
       "      <td>0.014852</td>\n",
       "      <td>-0.074819</td>\n",
       "      <td>3</td>\n",
       "      <td>2.0</td>\n",
       "    </tr>\n",
       "    <tr>\n",
       "      <th>149</th>\n",
       "      <td>-2.632789</td>\n",
       "      <td>0.528962</td>\n",
       "      <td>-0.000128</td>\n",
       "      <td>-0.029767</td>\n",
       "      <td>3</td>\n",
       "      <td>2.0</td>\n",
       "    </tr>\n",
       "  </tbody>\n",
       "</table>\n",
       "<p>150 rows × 6 columns</p>\n",
       "</div>"
      ],
      "text/plain": [
       "     principal component 1  principal component 2  principal component 3  \\\n",
       "0                 3.596671               0.177705               0.139577   \n",
       "1                 4.096581               0.358027               0.097268   \n",
       "2                 3.868550               0.307467               0.162864   \n",
       "3                 3.646536               0.230047               0.215934   \n",
       "4                 3.094371               0.040972               0.122032   \n",
       "..                     ...                    ...                    ...   \n",
       "145              -2.624737               0.477363               0.019589   \n",
       "146              -2.692321               0.613840              -0.035139   \n",
       "147              -2.486891               0.418966               0.025037   \n",
       "148              -2.369839               0.395206               0.014852   \n",
       "149              -2.632789               0.528962              -0.000128   \n",
       "\n",
       "     principal component 4  clusterKmeans  class  \n",
       "0                -0.092419              2    1.0  \n",
       "1                -0.036432              2    3.0  \n",
       "2                 0.085594              2    3.0  \n",
       "3                 0.004353              2    3.0  \n",
       "4                -0.047153              2    3.0  \n",
       "..                     ...            ...    ...  \n",
       "145              -0.036265              3    2.0  \n",
       "146              -0.028143              3    2.0  \n",
       "147              -0.048871              3    2.0  \n",
       "148              -0.074819              3    2.0  \n",
       "149              -0.029767              3    2.0  \n",
       "\n",
       "[150 rows x 6 columns]"
      ]
     },
     "execution_count": 169,
     "metadata": {},
     "output_type": "execute_result"
    }
   ],
   "source": [
    "# taking care of nans replacing with the most frequent values within the column\n",
    "df_plot.apply(lambda x:x.fillna(x.value_counts().index[0]))"
   ]
  },
  {
   "cell_type": "code",
   "execution_count": 191,
   "id": "5e5c1f9f",
   "metadata": {},
   "outputs": [],
   "source": [
    "def plotData(df, groupby):\n",
    "    fig, ax = plt.subplots(figsize = (7,7))\n",
    "\n",
    "    # color map\n",
    "    cmap = mpl.cm.get_cmap('prism')\n",
    "    \n",
    "    for i, cluster in df.groupby(groupby):\n",
    "        cluster.plot(ax = ax, \n",
    "                     kind = 'scatter', \n",
    "                     x = 'principal component 1', y = 'principal component 2',\n",
    "                     color = cmap(i/(nclusters)), \n",
    "                     label = \"%s %i\" % (groupby, i), \n",
    "                     s=30)\n",
    "    ax.grid()\n",
    "    ax.axhline(0, color='black')\n",
    "    ax.axvline(0, color='black')\n",
    "    ax.set_title(\"Principal Components Analysis (PCA) of Droplet Dataset\");\n"
   ]
  },
  {
   "cell_type": "code",
   "execution_count": 188,
   "id": "6e90cb6b",
   "metadata": {},
   "outputs": [
    {
     "data": {
      "image/png": "[encoded data removed]",
      "text/plain": [
       "<Figure size 504x504 with 1 Axes>"
      ]
     },
     "metadata": {
      "needs_background": "light"
     },
     "output_type": "display_data"
    }
   ],
   "source": [
    "# plot the clusters for predicated class\n",
    "import matplotlib as mpl\n",
    "plotData(df_plot, 'clusterKmeans')"
   ]
  },
  {
   "cell_type": "code",
   "execution_count": 189,
   "id": "478212ed",
   "metadata": {},
   "outputs": [
    {
     "data": {
      "image/png": "[encoded data removed]",
      "text/plain": [
       "<Figure size 504x504 with 1 Axes>"
      ]
     },
     "metadata": {
      "needs_background": "light"
     },
     "output_type": "display_data"
    }
   ],
   "source": [
    "# original response for class\n",
    "plotData(df_plot, 'class')"
   ]
  },
  {
   "cell_type": "markdown",
   "id": "cf508e1c",
   "metadata": {},
   "source": [
    "Comparing the two graphs above the clusters we predicated falls under the original data model that we choosed using PCA1, as the k-means data points falls under the same model plots that has 98% of the variance level."
   ]
  },
  {
   "cell_type": "markdown",
   "id": "12a1bc7f",
   "metadata": {},
   "source": [
    "Now lets see it with the gaussianMM"
   ]
  },
  {
   "cell_type": "code",
   "execution_count": 173,
   "id": "cd8cd303",
   "metadata": {},
   "outputs": [
    {
     "data": {
      "text/plain": [
       "array([3, 3, 3, 3, 3, 3, 3, 3, 3, 3, 3, 3, 3, 3, 3, 3, 3, 3, 3, 3, 3, 3,\n",
       "       3, 3, 3, 3, 3, 3, 3, 3, 1, 1, 1, 1, 1, 1, 1, 1, 3, 1, 1, 1, 1, 1,\n",
       "       1, 1, 1, 1, 1, 1, 0, 0, 0, 0, 0, 0, 0, 0, 0, 0, 0, 0, 0, 0, 0, 0,\n",
       "       0, 0, 0, 0, 0, 0, 0, 0, 0, 0, 0, 0, 0, 0, 0, 0, 0, 0, 0, 0, 0, 0,\n",
       "       0, 0, 0, 0, 0, 0, 0, 0, 0, 0, 0, 0, 0, 0, 0, 0, 0, 0, 0, 0, 0, 0,\n",
       "       0, 0, 0, 0, 0, 0, 0, 0, 0, 0, 2, 2, 2, 2, 2, 2, 2, 2, 2, 2, 2, 2,\n",
       "       2, 2, 2, 2, 2, 2, 2, 2, 2, 2, 2, 2, 2, 2, 2, 2, 2, 2])"
      ]
     },
     "execution_count": 173,
     "metadata": {},
     "output_type": "execute_result"
    }
   ],
   "source": [
    "# applying GMM\n",
    "gmm = GaussianMixture(n_components=nclusters)\n",
    "gmm.fit(x)\n",
    "\n",
    "# predict the cluster for each data point\n",
    "y_cluster_gmm = gmm.predict(x)\n",
    "y_cluster_gmm"
   ]
  },
  {
   "cell_type": "code",
   "execution_count": 174,
   "id": "353b43ea",
   "metadata": {},
   "outputs": [
    {
     "data": {
      "image/png": "[encoded data removed]",
      "text/plain": [
       "<Figure size 504x504 with 1 Axes>"
      ]
     },
     "metadata": {
      "needs_background": "light"
     },
     "output_type": "display_data"
    }
   ],
   "source": [
    "# add the GMM clusters to our data table and plot them\n",
    "df_plot['ClusterGMM'] = y_cluster_gmm\n",
    "plotData(df_plot, 'ClusterGMM')"
   ]
  },
  {
   "cell_type": "code",
   "execution_count": 175,
   "id": "21bfef5c",
   "metadata": {},
   "outputs": [
    {
     "data": {
      "text/plain": [
       "0.8631572985066777"
      ]
     },
     "execution_count": 175,
     "metadata": {},
     "output_type": "execute_result"
    }
   ],
   "source": [
    "# let's see how the k-means clustering score - \n",
    "score = adjusted_rand_score(y_array, y_cluster_kmeans)\n",
    "score"
   ]
  },
  {
   "cell_type": "code",
   "execution_count": 192,
   "id": "a53b318a",
   "metadata": {},
   "outputs": [
    {
     "data": {
      "text/plain": [
       "0.8403937716629399"
      ]
     },
     "execution_count": 192,
     "metadata": {},
     "output_type": "execute_result"
    }
   ],
   "source": [
    "# let's see how the gmm clustering score - \n",
    "score = adjusted_rand_score(y_array, y_cluster_gmm)\n",
    "score"
   ]
  },
  {
   "cell_type": "code",
   "execution_count": 194,
   "id": "f6dd0261",
   "metadata": {},
   "outputs": [
    {
     "data": {
      "text/plain": [
       "0.9454289504245821"
      ]
     },
     "execution_count": 194,
     "metadata": {},
     "output_type": "execute_result"
    }
   ],
   "source": [
    "score = adjusted_rand_score(y_cluster_kmeans,y_cluster_gmm)\n",
    "score"
   ]
  },
  {
   "cell_type": "markdown",
   "id": "8ff051d5",
   "metadata": {},
   "source": [
    "Looking at the score we can say that the k-model we have presented, represents the data more well than GMM. \n",
    "86% for K-mean and 84% for GMM. 95% of the clusters introduced by K-menas and GMM are similar to each other."
   ]
  }
 ],
 "metadata": {
  "kernelspec": {
   "display_name": "Python 3 (ipykernel)",
   "language": "python",
   "name": "python3"
  },
  "language_info": {
   "codemirror_mode": {
    "name": "ipython",
    "version": 3
   },
   "file_extension": ".py",
   "mimetype": "text/x-python",
   "name": "python",
   "nbconvert_exporter": "python",
   "pygments_lexer": "ipython3",
   "version": "3.9.7"
  }
 },
 "nbformat": 4,
 "nbformat_minor": 5
}
